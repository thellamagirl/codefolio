{
 "cells": [
  {
   "cell_type": "markdown",
   "id": "960d6ec5",
   "metadata": {},
   "source": [
    "### Imports"
   ]
  },
  {
   "cell_type": "code",
   "execution_count": 1,
   "id": "4cf56b38",
   "metadata": {},
   "outputs": [],
   "source": [
    "import random\n",
    "import warnings\n",
    "\n",
    "import numpy as np\n",
    "import pandas as pd\n",
    "import seaborn as sns\n",
    "import matplotlib.pyplot as plt\n",
    "\n",
    "import tensorflow as tf\n",
    "from tensorflow.keras.preprocessing.text import Tokenizer\n",
    "from tensorflow.keras.preprocessing.sequence import pad_sequences\n",
    "from tensorflow.keras.models import Sequential\n",
    "from tensorflow.keras.layers import Embedding, Conv1D, MaxPooling1D, LSTM, Dense\n",
    "from tensorflow import keras\n",
    "import keras_tuner as kt\n",
    "from tensorflow.keras.callbacks import EarlyStopping, ModelCheckpoint\n",
    "\n",
    "from sklearn.model_selection import train_test_split, GridSearchCV\n",
    "from sklearn.feature_extraction.text import TfidfVectorizer\n",
    "from sklearn.linear_model import LogisticRegressionCV, LogisticRegression\n",
    "from sklearn.metrics import classification_report, confusion_matrix, accuracy_score, f1_score, recall_score, precision_score\n",
    "from sklearn.utils import class_weight\n",
    "from sklearn.metrics import mean_squared_error as MSE\n",
    "from sklearn.ensemble import RandomForestRegressor\n",
    "from sklearn.tree import DecisionTreeClassifier\n",
    "\n",
    "import nltk\n",
    "from nltk import word_tokenize\n",
    "from nltk.corpus import stopwords\n",
    "from nltk.stem import WordNetLemmatizer\n",
    "\n",
    "from gensim.models import Word2Vec, KeyedVectors\n",
    "\n",
    "from pylab import rcParams\n",
    "\n",
    "rcParams['figure.figsize'] = 6, 5\n",
    "%matplotlib inline\n",
    "sns.set_theme(style='white')\n",
    "\n",
    "# Set random seeds\n",
    "np.random.seed(42)\n",
    "random.seed(42)\n",
    "tf.random.set_seed(42)\n",
    "\n",
    "# Plot function\n",
    "def plot_graphs(history, metric):\n",
    "    plt.plot(history.history[metric])\n",
    "    plt.plot(history.history['val_'+metric], '')\n",
    "    plt.xlabel(\"Epochs\")\n",
    "    plt.ylabel(metric)\n",
    "    plt.legend([metric, 'val_'+metric])"
   ]
  },
  {
   "cell_type": "markdown",
   "id": "82392fc5",
   "metadata": {},
   "source": [
    "### Combine Review Texts into Single .CSV"
   ]
  },
  {
   "cell_type": "code",
   "execution_count": 6,
   "id": "e63f9713",
   "metadata": {},
   "outputs": [
    {
     "data": {
      "text/html": [
       "<div>\n",
       "<style scoped>\n",
       "    .dataframe tbody tr th:only-of-type {\n",
       "        vertical-align: middle;\n",
       "    }\n",
       "\n",
       "    .dataframe tbody tr th {\n",
       "        vertical-align: top;\n",
       "    }\n",
       "\n",
       "    .dataframe thead th {\n",
       "        text-align: right;\n",
       "    }\n",
       "</style>\n",
       "<table border=\"1\" class=\"dataframe\">\n",
       "  <thead>\n",
       "    <tr style=\"text-align: right;\">\n",
       "      <th></th>\n",
       "      <th>Review</th>\n",
       "      <th>Sentiment</th>\n",
       "    </tr>\n",
       "  </thead>\n",
       "  <tbody>\n",
       "    <tr>\n",
       "      <th>0</th>\n",
       "      <td>So there is no way for me to plug it in here i...</td>\n",
       "      <td>0</td>\n",
       "    </tr>\n",
       "    <tr>\n",
       "      <th>1</th>\n",
       "      <td>Good case, Excellent value.</td>\n",
       "      <td>1</td>\n",
       "    </tr>\n",
       "    <tr>\n",
       "      <th>2</th>\n",
       "      <td>Great for the jawbone.</td>\n",
       "      <td>1</td>\n",
       "    </tr>\n",
       "    <tr>\n",
       "      <th>3</th>\n",
       "      <td>Tied to charger for conversations lasting more...</td>\n",
       "      <td>0</td>\n",
       "    </tr>\n",
       "    <tr>\n",
       "      <th>4</th>\n",
       "      <td>The mic is great.</td>\n",
       "      <td>1</td>\n",
       "    </tr>\n",
       "  </tbody>\n",
       "</table>\n",
       "</div>"
      ],
      "text/plain": [
       "                                              Review  Sentiment\n",
       "0  So there is no way for me to plug it in here i...          0\n",
       "1                        Good case, Excellent value.          1\n",
       "2                             Great for the jawbone.          1\n",
       "3  Tied to charger for conversations lasting more...          0\n",
       "4                                  The mic is great.          1"
      ]
     },
     "execution_count": 6,
     "metadata": {},
     "output_type": "execute_result"
    }
   ],
   "source": [
    "address1 = \"Data/amazon_cells_labelled.txt\"\n",
    "address2 = \"Data/imdb_labelled.txt\"\n",
    "address3 = \"Data/yelp_labelled.txt\"\n",
    "\n",
    "df1 = pd.read_csv(address1, delimiter='\\t', header=None)\n",
    "df2 = pd.read_csv(address2, delimiter='\\t', header=None)\n",
    "df3 = pd.read_csv(address3, delimiter='\\t', header=None)\n",
    "\n",
    "df = pd.concat([df1, df2, df3], axis=0)\n",
    "\n",
    "df.columns = [\"Review\", \"Sentiment\"]  # Set column names\n",
    "\n",
    "#df.to_csv('combined_data.csv', index=False)\n",
    "\n",
    "df.head()"
   ]
  },
  {
   "cell_type": "markdown",
   "id": "b3ce9a68",
   "metadata": {},
   "source": [
    "### Read in Data Set\n",
    "Using the Panda’s library, the file containing the data was read and converted into a Panda’s data frame."
   ]
  },
  {
   "cell_type": "code",
   "execution_count": 8,
   "id": "a8f53ec3",
   "metadata": {},
   "outputs": [
    {
     "data": {
      "text/html": [
       "<div>\n",
       "<style scoped>\n",
       "    .dataframe tbody tr th:only-of-type {\n",
       "        vertical-align: middle;\n",
       "    }\n",
       "\n",
       "    .dataframe tbody tr th {\n",
       "        vertical-align: top;\n",
       "    }\n",
       "\n",
       "    .dataframe thead th {\n",
       "        text-align: right;\n",
       "    }\n",
       "</style>\n",
       "<table border=\"1\" class=\"dataframe\">\n",
       "  <thead>\n",
       "    <tr style=\"text-align: right;\">\n",
       "      <th></th>\n",
       "      <th>Review</th>\n",
       "      <th>Sentiment</th>\n",
       "    </tr>\n",
       "  </thead>\n",
       "  <tbody>\n",
       "    <tr>\n",
       "      <th>0</th>\n",
       "      <td>So there is no way for me to plug it in here i...</td>\n",
       "      <td>0</td>\n",
       "    </tr>\n",
       "    <tr>\n",
       "      <th>1</th>\n",
       "      <td>Good case, Excellent value.</td>\n",
       "      <td>1</td>\n",
       "    </tr>\n",
       "    <tr>\n",
       "      <th>2</th>\n",
       "      <td>Great for the jawbone.</td>\n",
       "      <td>1</td>\n",
       "    </tr>\n",
       "    <tr>\n",
       "      <th>3</th>\n",
       "      <td>Tied to charger for conversations lasting more...</td>\n",
       "      <td>0</td>\n",
       "    </tr>\n",
       "    <tr>\n",
       "      <th>4</th>\n",
       "      <td>The mic is great.</td>\n",
       "      <td>1</td>\n",
       "    </tr>\n",
       "  </tbody>\n",
       "</table>\n",
       "</div>"
      ],
      "text/plain": [
       "                                              Review  Sentiment\n",
       "0  So there is no way for me to plug it in here i...          0\n",
       "1                        Good case, Excellent value.          1\n",
       "2                             Great for the jawbone.          1\n",
       "3  Tied to charger for conversations lasting more...          0\n",
       "4                                  The mic is great.          1"
      ]
     },
     "execution_count": 8,
     "metadata": {},
     "output_type": "execute_result"
    }
   ],
   "source": [
    "df = pd.read_csv('combined_data.csv')\n",
    "df.head()"
   ]
  },
  {
   "cell_type": "markdown",
   "id": "c74c44ed",
   "metadata": {},
   "source": [
    "### Remove Duplicates and Drop NA Values in Review Text Column\n",
    "Using methods from the Panda’s data frame, all rows within the ‘Review Text’ column that contained an NA value and rows consisting of duplicate values were dropped from the data frame. Using the length of the data frame as a reference, performing these steps removed 846 rows that contained either NA or duplicate values."
   ]
  },
  {
   "cell_type": "code",
   "execution_count": 3,
   "id": "8f09a85f",
   "metadata": {},
   "outputs": [
    {
     "data": {
      "text/plain": [
       "<bound method DataFrame.info of                                                 Review  Sentiment\n",
       "0    So there is no way for me to plug it in here i...          0\n",
       "1                          Good case, Excellent value.          1\n",
       "2                               Great for the jawbone.          1\n",
       "3    Tied to charger for conversations lasting more...          0\n",
       "4                                    The mic is great.          1\n",
       "..                                                 ...        ...\n",
       "995  I think food should have flavor and texture an...          0\n",
       "996                           Appetite instantly gone.          0\n",
       "997  Overall I was not impressed and would not go b...          0\n",
       "998  The whole experience was underwhelming, and I ...          0\n",
       "999  Then, as if I hadn't wasted enough of my life ...          0\n",
       "\n",
       "[2748 rows x 2 columns]>"
      ]
     },
     "execution_count": 3,
     "metadata": {},
     "output_type": "execute_result"
    }
   ],
   "source": [
    "df.info"
   ]
  },
  {
   "cell_type": "code",
   "execution_count": 4,
   "id": "8977b2f0",
   "metadata": {
    "scrolled": true
   },
   "outputs": [
    {
     "data": {
      "text/plain": [
       "2748"
      ]
     },
     "execution_count": 4,
     "metadata": {},
     "output_type": "execute_result"
    }
   ],
   "source": [
    "len(df)"
   ]
  },
  {
   "cell_type": "code",
   "execution_count": 5,
   "id": "106e6f37",
   "metadata": {},
   "outputs": [
    {
     "data": {
      "text/plain": [
       "2731"
      ]
     },
     "execution_count": 5,
     "metadata": {},
     "output_type": "execute_result"
    }
   ],
   "source": [
    "df.dropna(subset=['Review'], inplace=True)\n",
    "df.drop_duplicates(inplace=True)\n",
    "\n",
    "df = df.reset_index(drop=True)\n",
    "\n",
    "len(df)"
   ]
  },
  {
   "cell_type": "markdown",
   "id": "73579cb1",
   "metadata": {},
   "source": [
    "### Exploratory Analysis\n",
    "#### Descriptive Statistics\n",
    "A table of descriptive statistics such as the count, mean, and standard deviation of all numerical variables was created using the data frame method 'describe'. This table provides insights into the distribution of the samples by providing information about the ages of the customers and how they feel about the products and services offered by the company through variables such as Rating, Recommended IND, and positive feedback count."
   ]
  },
  {
   "cell_type": "code",
   "execution_count": 6,
   "id": "5a34f1da",
   "metadata": {},
   "outputs": [
    {
     "data": {
      "text/html": [
       "<div>\n",
       "<style scoped>\n",
       "    .dataframe tbody tr th:only-of-type {\n",
       "        vertical-align: middle;\n",
       "    }\n",
       "\n",
       "    .dataframe tbody tr th {\n",
       "        vertical-align: top;\n",
       "    }\n",
       "\n",
       "    .dataframe thead th {\n",
       "        text-align: right;\n",
       "    }\n",
       "</style>\n",
       "<table border=\"1\" class=\"dataframe\">\n",
       "  <thead>\n",
       "    <tr style=\"text-align: right;\">\n",
       "      <th></th>\n",
       "      <th>Sentiment</th>\n",
       "    </tr>\n",
       "  </thead>\n",
       "  <tbody>\n",
       "    <tr>\n",
       "      <th>count</th>\n",
       "      <td>2731</td>\n",
       "    </tr>\n",
       "    <tr>\n",
       "      <th>mean</th>\n",
       "      <td>0</td>\n",
       "    </tr>\n",
       "    <tr>\n",
       "      <th>std</th>\n",
       "      <td>0</td>\n",
       "    </tr>\n",
       "    <tr>\n",
       "      <th>min</th>\n",
       "      <td>0</td>\n",
       "    </tr>\n",
       "    <tr>\n",
       "      <th>25%</th>\n",
       "      <td>0</td>\n",
       "    </tr>\n",
       "    <tr>\n",
       "      <th>50%</th>\n",
       "      <td>1</td>\n",
       "    </tr>\n",
       "    <tr>\n",
       "      <th>75%</th>\n",
       "      <td>1</td>\n",
       "    </tr>\n",
       "    <tr>\n",
       "      <th>max</th>\n",
       "      <td>1</td>\n",
       "    </tr>\n",
       "  </tbody>\n",
       "</table>\n",
       "</div>"
      ],
      "text/plain": [
       "       Sentiment\n",
       "count       2731\n",
       "mean           0\n",
       "std            0\n",
       "min            0\n",
       "25%            0\n",
       "50%            1\n",
       "75%            1\n",
       "max            1"
      ]
     },
     "execution_count": 6,
     "metadata": {},
     "output_type": "execute_result"
    }
   ],
   "source": [
    "df.describe().astype(int)"
   ]
  },
  {
   "cell_type": "markdown",
   "id": "21265a2a",
   "metadata": {},
   "source": [
    "#### Visualizing the Data with Count Plot\n",
    "A count plot was created for the Sentiment variable. These count plots show the distribution by class and help visualize the class imbalance that will need to be handled during the analysis."
   ]
  },
  {
   "cell_type": "code",
   "execution_count": 7,
   "id": "adf43e55",
   "metadata": {},
   "outputs": [
    {
     "data": {
      "image/png": "[encoded data removed]",
      "text/plain": [
       "<Figure size 600x500 with 1 Axes>"
      ]
     },
     "metadata": {},
     "output_type": "display_data"
    }
   ],
   "source": [
    "sns.countplot(x='Sentiment', data=df, palette='hls')\n",
    "plt.title('Distribution by Sentiment')\n",
    "plt.show()"
   ]
  },
  {
   "cell_type": "code",
   "execution_count": 8,
   "id": "49f18d05",
   "metadata": {},
   "outputs": [
    {
     "data": {
      "text/plain": [
       "Sentiment\n",
       "1    1376\n",
       "0    1355\n",
       "Name: count, dtype: int64"
      ]
     },
     "execution_count": 8,
     "metadata": {},
     "output_type": "execute_result"
    }
   ],
   "source": [
    "df['Sentiment'].value_counts()"
   ]
  },
  {
   "cell_type": "markdown",
   "id": "0f7a69d8",
   "metadata": {},
   "source": [
    "### Verify No Null Values Remain\n",
    "To ensure that all null values that were present at the beginning of the analysis were now either imputed or dropped, the ‘isnull()’ method was used on the data frame. Upon viewing the output, no null values remain within the data set and further preprocessing can continue."
   ]
  },
  {
   "cell_type": "code",
   "execution_count": 9,
   "id": "91a81794",
   "metadata": {},
   "outputs": [
    {
     "data": {
      "text/plain": [
       "Review       0\n",
       "Sentiment    0\n",
       "dtype: int64"
      ]
     },
     "execution_count": 9,
     "metadata": {},
     "output_type": "execute_result"
    }
   ],
   "source": [
    "df.isnull().sum()"
   ]
  },
  {
   "cell_type": "markdown",
   "id": "3f0921a3",
   "metadata": {},
   "source": [
    "### Clean Reviews\n",
    "Reviews Prior to Preprocessing"
   ]
  },
  {
   "cell_type": "code",
   "execution_count": 10,
   "id": "a3b697cb",
   "metadata": {},
   "outputs": [
    {
     "data": {
      "text/plain": [
       "0       So there is no way for me to plug it in here i...\n",
       "1                             Good case, Excellent value.\n",
       "2                                  Great for the jawbone.\n",
       "3       Tied to charger for conversations lasting more...\n",
       "4                                       The mic is great.\n",
       "                              ...                        \n",
       "2726    I think food should have flavor and texture an...\n",
       "2727                             Appetite instantly gone.\n",
       "2728    Overall I was not impressed and would not go b...\n",
       "2729    The whole experience was underwhelming, and I ...\n",
       "2730    Then, as if I hadn't wasted enough of my life ...\n",
       "Name: Review, Length: 2731, dtype: object"
      ]
     },
     "execution_count": 10,
     "metadata": {},
     "output_type": "execute_result"
    }
   ],
   "source": [
    "df['Review']"
   ]
  },
  {
   "cell_type": "markdown",
   "id": "1de3ae5c",
   "metadata": {},
   "source": [
    "### Clean and Tokenize Reviews\n",
    "Performing text preprocessing is an essential part of NLP. Well-known tools from the NLTK library were used to create a custom function that performed all necessary text processing.\n",
    "In the function, reviews are converted to all lowercase letters and then tokenized into individual word tokens. Those tokens are then lemmatized, stop words are removed, and only words containing alphabetic characters are retained. Finally, from the cleaned tokens, only unique tokens greater than two letters in length are kept in each review."
   ]
  },
  {
   "cell_type": "code",
   "execution_count": 11,
   "id": "6bfd36a2",
   "metadata": {},
   "outputs": [
    {
     "data": {
      "text/html": [
       "<div>\n",
       "<style scoped>\n",
       "    .dataframe tbody tr th:only-of-type {\n",
       "        vertical-align: middle;\n",
       "    }\n",
       "\n",
       "    .dataframe tbody tr th {\n",
       "        vertical-align: top;\n",
       "    }\n",
       "\n",
       "    .dataframe thead th {\n",
       "        text-align: right;\n",
       "    }\n",
       "</style>\n",
       "<table border=\"1\" class=\"dataframe\">\n",
       "  <thead>\n",
       "    <tr style=\"text-align: right;\">\n",
       "      <th></th>\n",
       "      <th>Review</th>\n",
       "      <th>Sentiment</th>\n",
       "      <th>tokenized_review</th>\n",
       "      <th>cleaned_review</th>\n",
       "    </tr>\n",
       "  </thead>\n",
       "  <tbody>\n",
       "    <tr>\n",
       "      <th>0</th>\n",
       "      <td>So there is no way for me to plug it in here i...</td>\n",
       "      <td>0</td>\n",
       "      <td>{converter, plug, way, unless}</td>\n",
       "      <td>converter plug way unless</td>\n",
       "    </tr>\n",
       "    <tr>\n",
       "      <th>1</th>\n",
       "      <td>Good case, Excellent value.</td>\n",
       "      <td>1</td>\n",
       "      <td>{excellent, good, value, case}</td>\n",
       "      <td>excellent good value case</td>\n",
       "    </tr>\n",
       "    <tr>\n",
       "      <th>2</th>\n",
       "      <td>Great for the jawbone.</td>\n",
       "      <td>1</td>\n",
       "      <td>{jawbone, great}</td>\n",
       "      <td>jawbone great</td>\n",
       "    </tr>\n",
       "    <tr>\n",
       "      <th>3</th>\n",
       "      <td>Tied to charger for conversations lasting more...</td>\n",
       "      <td>0</td>\n",
       "      <td>{lasting, conversation, charger, problem, tied}</td>\n",
       "      <td>lasting conversation charger problem tied</td>\n",
       "    </tr>\n",
       "    <tr>\n",
       "      <th>4</th>\n",
       "      <td>The mic is great.</td>\n",
       "      <td>1</td>\n",
       "      <td>{great, mic}</td>\n",
       "      <td>great mic</td>\n",
       "    </tr>\n",
       "  </tbody>\n",
       "</table>\n",
       "</div>"
      ],
      "text/plain": [
       "                                              Review  Sentiment  \\\n",
       "0  So there is no way for me to plug it in here i...          0   \n",
       "1                        Good case, Excellent value.          1   \n",
       "2                             Great for the jawbone.          1   \n",
       "3  Tied to charger for conversations lasting more...          0   \n",
       "4                                  The mic is great.          1   \n",
       "\n",
       "                                  tokenized_review  \\\n",
       "0                   {converter, plug, way, unless}   \n",
       "1                   {excellent, good, value, case}   \n",
       "2                                 {jawbone, great}   \n",
       "3  {lasting, conversation, charger, problem, tied}   \n",
       "4                                     {great, mic}   \n",
       "\n",
       "                              cleaned_review  \n",
       "0                  converter plug way unless  \n",
       "1                  excellent good value case  \n",
       "2                              jawbone great  \n",
       "3  lasting conversation charger problem tied  \n",
       "4                                  great mic  "
      ]
     },
     "execution_count": 11,
     "metadata": {},
     "output_type": "execute_result"
    }
   ],
   "source": [
    "# Instantiate the WordNetLemmatizer\n",
    "wordnet_lemmatizer = WordNetLemmatizer()\n",
    "\n",
    "def clean_reviews(text):\n",
    "    tokens = word_tokenize(text.lower())\n",
    "    stop_words = nltk.corpus.stopwords.words('english')\n",
    "    lemmas = [wordnet_lemmatizer.lemmatize(token) for token in tokens]\n",
    "    clean_text = [word for word in lemmas if word.isalpha() and not word in stop_words]\n",
    "    \n",
    "    unique_tokens = set([word for word in clean_text if len(word) > 2])\n",
    "    cleaned_text = ' '.join(unique_tokens)\n",
    "    \n",
    "    return unique_tokens, cleaned_text\n",
    "\n",
    "df[['tokenized_review', 'cleaned_review']] = df['Review'].apply(clean_reviews).apply(pd.Series)\n",
    "\n",
    "# Calculate the vocab_size\n",
    "vocabulary = set()\n",
    "for tokens in df['tokenized_review']:\n",
    "    vocabulary.update(tokens)\n",
    "vocab_size = len(vocabulary)\n",
    "\n",
    "df.head()"
   ]
  },
  {
   "cell_type": "markdown",
   "id": "e99206b5",
   "metadata": {},
   "source": [
    "### Calculate Number of Words per Review\n",
    "While not necessary to know the number of words in each review when performing the logistic regression, it is a requirement of the neural network to set a maximum length. It is also good to explore this aspect of the reviews to get a better sense of how the reviews play a part in the sentiment analysis.\n",
    "\n",
    "Using the data frame’s built-in apply function and a custom function designed to split each review by spaces (thus separating each word) and then calculating the length of each word,  a new column containing the word count for each review was added to the data frame."
   ]
  },
  {
   "cell_type": "code",
   "execution_count": 12,
   "id": "35334264",
   "metadata": {},
   "outputs": [
    {
     "data": {
      "text/html": [
       "<div>\n",
       "<style scoped>\n",
       "    .dataframe tbody tr th:only-of-type {\n",
       "        vertical-align: middle;\n",
       "    }\n",
       "\n",
       "    .dataframe tbody tr th {\n",
       "        vertical-align: top;\n",
       "    }\n",
       "\n",
       "    .dataframe thead th {\n",
       "        text-align: right;\n",
       "    }\n",
       "</style>\n",
       "<table border=\"1\" class=\"dataframe\">\n",
       "  <thead>\n",
       "    <tr style=\"text-align: right;\">\n",
       "      <th></th>\n",
       "      <th>Review</th>\n",
       "      <th>Sentiment</th>\n",
       "      <th>tokenized_review</th>\n",
       "      <th>cleaned_review</th>\n",
       "      <th>num_tokens</th>\n",
       "    </tr>\n",
       "  </thead>\n",
       "  <tbody>\n",
       "    <tr>\n",
       "      <th>0</th>\n",
       "      <td>So there is no way for me to plug it in here i...</td>\n",
       "      <td>0</td>\n",
       "      <td>{converter, plug, way, unless}</td>\n",
       "      <td>converter plug way unless</td>\n",
       "      <td>4</td>\n",
       "    </tr>\n",
       "    <tr>\n",
       "      <th>1</th>\n",
       "      <td>Good case, Excellent value.</td>\n",
       "      <td>1</td>\n",
       "      <td>{excellent, good, value, case}</td>\n",
       "      <td>excellent good value case</td>\n",
       "      <td>4</td>\n",
       "    </tr>\n",
       "    <tr>\n",
       "      <th>2</th>\n",
       "      <td>Great for the jawbone.</td>\n",
       "      <td>1</td>\n",
       "      <td>{jawbone, great}</td>\n",
       "      <td>jawbone great</td>\n",
       "      <td>2</td>\n",
       "    </tr>\n",
       "    <tr>\n",
       "      <th>3</th>\n",
       "      <td>Tied to charger for conversations lasting more...</td>\n",
       "      <td>0</td>\n",
       "      <td>{lasting, conversation, charger, problem, tied}</td>\n",
       "      <td>lasting conversation charger problem tied</td>\n",
       "      <td>5</td>\n",
       "    </tr>\n",
       "    <tr>\n",
       "      <th>4</th>\n",
       "      <td>The mic is great.</td>\n",
       "      <td>1</td>\n",
       "      <td>{great, mic}</td>\n",
       "      <td>great mic</td>\n",
       "      <td>2</td>\n",
       "    </tr>\n",
       "  </tbody>\n",
       "</table>\n",
       "</div>"
      ],
      "text/plain": [
       "                                              Review  Sentiment  \\\n",
       "0  So there is no way for me to plug it in here i...          0   \n",
       "1                        Good case, Excellent value.          1   \n",
       "2                             Great for the jawbone.          1   \n",
       "3  Tied to charger for conversations lasting more...          0   \n",
       "4                                  The mic is great.          1   \n",
       "\n",
       "                                  tokenized_review  \\\n",
       "0                   {converter, plug, way, unless}   \n",
       "1                   {excellent, good, value, case}   \n",
       "2                                 {jawbone, great}   \n",
       "3  {lasting, conversation, charger, problem, tied}   \n",
       "4                                     {great, mic}   \n",
       "\n",
       "                              cleaned_review  num_tokens  \n",
       "0                  converter plug way unless           4  \n",
       "1                  excellent good value case           4  \n",
       "2                              jawbone great           2  \n",
       "3  lasting conversation charger problem tied           5  \n",
       "4                                  great mic           2  "
      ]
     },
     "execution_count": 12,
     "metadata": {},
     "output_type": "execute_result"
    }
   ],
   "source": [
    "# Function that returns number of tokens in set\n",
    "def token_count(token_set):\n",
    "    # Return length of token set\n",
    "    return len(token_set)\n",
    "\n",
    "# Create num_tokens feature in df\n",
    "df['num_tokens'] = df['tokenized_review'].apply(token_count)\n",
    "\n",
    "df.head()"
   ]
  },
  {
   "cell_type": "markdown",
   "id": "beb04814",
   "metadata": {},
   "source": [
    "### Exploring Review Lengths\n",
    "The longest and shortest reviews are calculated below as well as the average review length, the standard deviation of the review lengths, and the median review length."
   ]
  },
  {
   "cell_type": "code",
   "execution_count": 13,
   "id": "222d5f89",
   "metadata": {
    "scrolled": true
   },
   "outputs": [
    {
     "name": "stdout",
     "output_type": "stream",
     "text": [
      "The longest review is 447 tokens.\n",
      "The shortest review is 0 tokens.\n",
      "The average review is 6 tokens.\n",
      "The standard deviation of the token count is 12 tokens.\n",
      "The median review length has 5 tokens.\n"
     ]
    }
   ],
   "source": [
    "print('The longest review is', max(df['num_tokens']), 'tokens.')\n",
    "print('The shortest review is', min(df['num_tokens']), 'tokens.')\n",
    "print('The average review is', round(np.mean(df['num_tokens'])), 'tokens.')\n",
    "print('The standard deviation of the token count is', round(np.std(df['num_tokens'])), 'tokens.')\n",
    "print('The median review length has', round(np.median(df['num_tokens'])), 'tokens.')"
   ]
  },
  {
   "cell_type": "code",
   "execution_count": 14,
   "id": "aa163a0a",
   "metadata": {},
   "outputs": [
    {
     "data": {
      "text/plain": [
       "2731"
      ]
     },
     "execution_count": 14,
     "metadata": {},
     "output_type": "execute_result"
    }
   ],
   "source": [
    "len(df)"
   ]
  },
  {
   "cell_type": "markdown",
   "id": "b9f5d5d4",
   "metadata": {},
   "source": [
    "### Visualizing Review Length Distribution\n",
    "A count plot of the number of words per review was created to get a visual representation of the composition of review lengths. The longest review is 54 words in length and to better preserve the reviews, this is selected as the maximum sequence length for the neural network."
   ]
  },
  {
   "cell_type": "code",
   "execution_count": 15,
   "id": "fcdce330",
   "metadata": {},
   "outputs": [
    {
     "data": {
      "image/png": "[encoded data removed]",
      "text/plain": [
       "<Figure size 1400x600 with 1 Axes>"
      ]
     },
     "metadata": {},
     "output_type": "display_data"
    }
   ],
   "source": [
    "sns.set(rc={'figure.figsize':(14, 6)}, style='white')\n",
    "sns.countplot(x = df['num_tokens'], palette='hls');"
   ]
  },
  {
   "cell_type": "markdown",
   "id": "d03c9091",
   "metadata": {},
   "source": [
    "### Train Word2Vec Model on Tokenized Reviews\n",
    "To run the logistic regression, it was necessary to convert the words from each review into a numerical representation. "
   ]
  },
  {
   "cell_type": "code",
   "execution_count": 16,
   "id": "2348c31b",
   "metadata": {},
   "outputs": [],
   "source": [
    "# Load the pre-trained FastText model with the correct encoding\n",
    "word2vec_model = KeyedVectors.load_word2vec_format('wiki.en.vec')"
   ]
  },
  {
   "cell_type": "code",
   "execution_count": 17,
   "id": "338610fd",
   "metadata": {},
   "outputs": [],
   "source": [
    "# Create empty lists to store the review embeddings\n",
    "review_embeddings = []\n",
    "\n",
    "# Iterate over tokenized reviews\n",
    "for review_tokens in df['tokenized_review']:\n",
    "    # Initialize an empty review embedding\n",
    "    review_embedding = np.zeros(word2vec_model.vector_size)\n",
    "    \n",
    "    # Iterate over tokens in the review\n",
    "    for token in review_tokens:\n",
    "        # Check if the token exists in the FastText vocabulary\n",
    "        if token in word2vec_model:\n",
    "            # Add the token's embedding to the review embedding\n",
    "            review_embedding += word2vec_model[token]\n",
    "    \n",
    "    # Append the review embedding to the list\n",
    "    review_embeddings.append(review_embedding)"
   ]
  },
  {
   "cell_type": "markdown",
   "id": "260ed5b7",
   "metadata": {},
   "source": [
    "### Split the Data for Logistic Regression\n",
    "The data is split into 80% training and 20% testing sets using the vectorized reviews as X and the labeled Recommended IND variable as y. The data is set to stratify so that both training and testing sets have similar proportions of each label and the data is shuffled."
   ]
  },
  {
   "cell_type": "code",
   "execution_count": 18,
   "id": "c361d7dd",
   "metadata": {},
   "outputs": [],
   "source": [
    "# Assign the target variable\n",
    "y = df['Sentiment']\n",
    "X = review_embeddings\n",
    "\n",
    "# Create Training and Testing Sets\n",
    "X_train, X_test, y_train, y_test = train_test_split(X, y,\n",
    "                                                   test_size=0.2,\n",
    "                                                   random_state=42,\n",
    "                                                   stratify=y,\n",
    "                                                   shuffle=True)"
   ]
  },
  {
   "cell_type": "markdown",
   "id": "15184e80",
   "metadata": {},
   "source": [
    "### Random Forest Regression with Cross-Validation"
   ]
  },
  {
   "cell_type": "code",
   "execution_count": 19,
   "id": "26c13467",
   "metadata": {
    "scrolled": true
   },
   "outputs": [
    {
     "name": "stdout",
     "output_type": "stream",
     "text": [
      "Fitting 3 folds for each of 81 candidates, totalling 243 fits\n",
      "Best hyperparameters:\n",
      " {'max_depth': 9, 'max_features': 0.5, 'min_samples_leaf': 3, 'n_estimators': 800}\n",
      "\n",
      "Test set RMSE: 0.41\n",
      "Test set MSE: 0.17\n"
     ]
    }
   ],
   "source": [
    "# Instantiate RF \n",
    "rf = RandomForestRegressor(random_state=42)\n",
    "\n",
    "# Define hyperparams\n",
    "params_rf = {\n",
    "             'n_estimators':[400,600,800],\n",
    "             'max_depth':[5,7,9],\n",
    "             'min_samples_leaf':[1,2,3],\n",
    "             'max_features':['sqrt',0.5,0.9]\n",
    "            }\n",
    "\n",
    "# Instantiate grid search object 'grid_rf'\n",
    "grid_rf = GridSearchCV(estimator=rf,\n",
    "                       param_grid=params_rf,\n",
    "                       cv=3,\n",
    "                       scoring='neg_mean_squared_error',\n",
    "                       verbose=1,\n",
    "                       n_jobs=6)\n",
    "# Fit 'grid_rf' to training data\n",
    "grid_rf.fit(X_train, y_train)\n",
    "\n",
    "# Extract best hyperparams from 'grid_rf'\n",
    "best_hyperparams = grid_rf.best_params_\n",
    "print('Best hyperparameters:\\n', best_hyperparams)\n",
    "\n",
    "# Extract best model from 'grid_rf'\n",
    "best_model = grid_rf.best_estimator_\n",
    "\n",
    "# Predict on test data\n",
    "y_pred = best_model.predict(X_test)\n",
    "\n",
    "# Apply threshold to convert continuous predicted values to binary predictions\n",
    "threshold = 0.5\n",
    "y_pred_binary = [1 if val > threshold else 0 for val in y_pred]\n",
    "\n",
    "# Evaluate RMSE\n",
    "mse_test = MSE(y_test, y_pred)\n",
    "rmse_test = mse_test**(1/2)\n",
    "print()\n",
    "print('Test set RMSE: {:.2f}'.format(rmse_test))\n",
    "print('Test set MSE: {:.2f}'.format(mse_test))"
   ]
  },
  {
   "cell_type": "code",
   "execution_count": 20,
   "id": "68e3090e",
   "metadata": {},
   "outputs": [
    {
     "name": "stdout",
     "output_type": "stream",
     "text": [
      "Accuracy score on test data: 0.77\n",
      "Precision score on test data: 0.74\n",
      "Recall score on test data: 0.83\n",
      "F1-score on test data: 0.78\n"
     ]
    }
   ],
   "source": [
    "accuracy = accuracy_score(y_test, y_pred_binary)\n",
    "precision = precision_score(y_test, y_pred_binary)\n",
    "recall = recall_score(y_test, y_pred_binary)\n",
    "f1 = f1_score(y_test, y_pred_binary)\n",
    "\n",
    "print('Accuracy score on test data: {:.2f}'.format(accuracy))\n",
    "print('Precision score on test data: {:.2f}'.format(precision))\n",
    "print('Recall score on test data: {:.2f}'.format(recall))\n",
    "print('F1-score on test data: {:.2f}'.format(f1))"
   ]
  },
  {
   "cell_type": "markdown",
   "id": "675defe9",
   "metadata": {},
   "source": [
    "### Random Forest Regression Classification Report"
   ]
  },
  {
   "cell_type": "code",
   "execution_count": 21,
   "id": "e4aecbbf",
   "metadata": {},
   "outputs": [
    {
     "name": "stdout",
     "output_type": "stream",
     "text": [
      "              precision    recall  f1-score   support\n",
      "\n",
      "           0       0.80      0.71      0.75       271\n",
      "           1       0.74      0.83      0.78       276\n",
      "\n",
      "    accuracy                           0.77       547\n",
      "   macro avg       0.77      0.77      0.77       547\n",
      "weighted avg       0.77      0.77      0.77       547\n",
      "\n"
     ]
    }
   ],
   "source": [
    "print(classification_report(y_test, y_pred_binary))"
   ]
  },
  {
   "cell_type": "markdown",
   "id": "f22062d7",
   "metadata": {},
   "source": [
    "### Random Forest Confusion Matrix Heatmap"
   ]
  },
  {
   "cell_type": "code",
   "execution_count": 22,
   "id": "ece0ad35",
   "metadata": {},
   "outputs": [
    {
     "data": {
      "image/png": "[encoded data removed]",
      "text/plain": [
       "<Figure size 1400x600 with 2 Axes>"
      ]
     },
     "metadata": {},
     "output_type": "display_data"
    }
   ],
   "source": [
    "# Calculate the confusion matrix\n",
    "rf_confusion_matrix = confusion_matrix(y_test, y_pred_binary)\n",
    "\n",
    "class_names = ['0', '1']\n",
    "\n",
    "fig, ax = plt.subplots()\n",
    "tick_marks = np.arange(len(class_names))\n",
    "plt.xticks(tick_marks, class_names)\n",
    "plt.yticks(tick_marks, class_names)\n",
    "\n",
    "# Create the heatmap\n",
    "sns.heatmap(pd.DataFrame(rf_confusion_matrix), annot=True, cmap='BuPu', fmt='g', robust=True, center=0,\n",
    "            xticklabels=class_names, yticklabels=class_names)\n",
    "ax.xaxis.set_label_position('top')\n",
    "plt.tight_layout()\n",
    "plt.title('Random Forest Confusion Matrix', y=1.1)\n",
    "plt.ylabel('Actual')\n",
    "plt.xlabel('Predicted')\n",
    "plt.show()"
   ]
  },
  {
   "cell_type": "markdown",
   "id": "0b652d9e",
   "metadata": {},
   "source": [
    "### Logistic Regression with Cross-Validation\n",
    "The logistic regression is run using the 'LogisticRegressionCV' method from sklearn. The logistic regression uses the 'sag', or stochastic average gradient, solver as it converges more quickly with larger data sets and the calculated class weights are applied to help the algorithm learn both classes more efficiently. In addition to that, the C and l1_ratios parameters are tuned using a stratified 5-fold cross-validation, optimum selection based upon accuracy scores (Pedregosa et al., 2011). Max iterations increased to 300 to assist with convergence as well. The accuracy of the logistic regression using the training data is 94.41%."
   ]
  },
  {
   "cell_type": "code",
   "execution_count": 23,
   "id": "0f9c5dcc",
   "metadata": {},
   "outputs": [
    {
     "name": "stdout",
     "output_type": "stream",
     "text": [
      "Accuracy score on test data: 0.81\n",
      "Precision score on test data: 0.80\n",
      "Recall score on test data: 0.82\n",
      "F1-score on test data: 0.81\n"
     ]
    }
   ],
   "source": [
    "# Train a logistic regression model with cross-validation\n",
    "log_reg = LogisticRegressionCV(random_state=42, n_jobs=6, solver='liblinear', cv=5).fit(X_train, y_train)\n",
    "\n",
    "# Predict the labels for the training data\n",
    "y_pred = log_reg.predict(X_test)\n",
    "\n",
    "# Apply threshold to convert continuous predicted values to binary predictions\n",
    "threshold = 0.5\n",
    "y_pred_binary = [1 if val > threshold else 0 for val in y_pred]\n",
    "\n",
    "# Calculate the accuracy on the test data\n",
    "accuracy = accuracy_score(y_test, y_pred_binary)\n",
    "precision = precision_score(y_test, y_pred_binary)\n",
    "recall = recall_score(y_test, y_pred_binary)\n",
    "f1 = f1_score(y_test, y_pred_binary)\n",
    "\n",
    "# Print the accuracy on the test data\n",
    "print('Accuracy score on test data: {:.2f}'.format(accuracy))\n",
    "print('Precision score on test data: {:.2f}'.format(precision))\n",
    "print('Recall score on test data: {:.2f}'.format(recall))\n",
    "print('F1-score on test data: {:.2f}'.format(f1))"
   ]
  },
  {
   "cell_type": "markdown",
   "id": "3c77bf05",
   "metadata": {},
   "source": [
    "### Predict on Testing Data\n",
    "Using the optimized logistic regression, predictions are made using the testing data set. This is done to check how well the model can generalize on unseen data. This model predicted labels for the testing data set with 89.47% accuracy."
   ]
  },
  {
   "cell_type": "markdown",
   "id": "3ccf402a",
   "metadata": {},
   "source": [
    "### Logistic Regression Classification Report\n",
    "The true performance of a model is seen when checking the predicted labels against the true labels as this indicates the true accuracy of the model to predict on new data. The F1-score is described as \"...the harmonic mean of the model’s precision and recall\" (Wood, 2019). As seen in the classification report table below, the F1-score for label 0 is 74% with a total of 820 samples and the F1-score for label 1 is 93% with a total of 3708 samples. \n",
    "\n",
    "It is not surprising that there is a discrepancy of almost 20% between the two classes as this data set is highly imbalanced. While the class weights applied to the algorithm do improve performance of the smaller class, it is not sufficient to totally overcome the issues associated with the imbalance. The impact of the class weights can be seen more dramatically in the recall, which is the proportion of actual positives that were correctly identified (Google, n.d.). The recall here shows a score of 83% for label 0 and 91% for label 1 indicating that the algorithm was similarly sensitive to both classes.\n",
    "\n",
    "Due to the imbalanced classes, it is better to consider the macro average F1-score as it treats both classes equally as both classes are equally important in this classification model (Leung, 2022). The macro F1-score for this model is 84%."
   ]
  },
  {
   "cell_type": "code",
   "execution_count": 24,
   "id": "58b25f22",
   "metadata": {
    "scrolled": true
   },
   "outputs": [
    {
     "name": "stdout",
     "output_type": "stream",
     "text": [
      "              precision    recall  f1-score   support\n",
      "\n",
      "           0       0.81      0.80      0.80       271\n",
      "           1       0.80      0.82      0.81       276\n",
      "\n",
      "    accuracy                           0.81       547\n",
      "   macro avg       0.81      0.81      0.81       547\n",
      "weighted avg       0.81      0.81      0.81       547\n",
      "\n"
     ]
    }
   ],
   "source": [
    "print(classification_report(y_test, y_pred_binary))"
   ]
  },
  {
   "cell_type": "markdown",
   "id": "8239b2ec",
   "metadata": {},
   "source": [
    "### Logistic Regression Confusion Matrix Heatmap\n",
    "Using sklearn's confusion matrix and seaborn, a confusion matrix was created based upon the logistic regression results. This confusion matrix is a visual representation of the actual versus predicted counts by label. The true positives can be seen on the diagonal with label Not Recommended (0) having 682 correct predictions and label Recommended (1) with 3369 correct predictions. The other numbers represent false positives and false negatives for both classes."
   ]
  },
  {
   "cell_type": "code",
   "execution_count": 25,
   "id": "918ed33e",
   "metadata": {},
   "outputs": [
    {
     "data": {
      "image/png": "[encoded data removed]",
      "text/plain": [
       "<Figure size 1400x600 with 2 Axes>"
      ]
     },
     "metadata": {},
     "output_type": "display_data"
    }
   ],
   "source": [
    "# Calculate the confusion matrix\n",
    "lr_confusion_matrix = confusion_matrix(y_test, y_pred_binary)\n",
    "\n",
    "class_names = ['0', '1']\n",
    "\n",
    "fig, ax = plt.subplots()\n",
    "tick_marks = np.arange(len(class_names))\n",
    "plt.xticks(tick_marks, class_names)\n",
    "plt.yticks(tick_marks, class_names)\n",
    "\n",
    "# Create the heatmap\n",
    "sns.heatmap(pd.DataFrame(lr_confusion_matrix), annot=True, cmap='BuPu', fmt='g', robust=True, center=0,\n",
    "            xticklabels=class_names, yticklabels=class_names)\n",
    "ax.xaxis.set_label_position('top')\n",
    "plt.tight_layout()\n",
    "plt.title('Logistic Regression Confusion Matrix', y=1.1)\n",
    "plt.ylabel('Actual')\n",
    "plt.xlabel('Predicted')\n",
    "plt.show()"
   ]
  },
  {
   "cell_type": "markdown",
   "id": "7a082499",
   "metadata": {},
   "source": [
    "### Preprocessing with TensorFlow\n",
    "TensorFlow was chosen as the platform for the neural network because of its extensive tools and libraries that allow for both the preprocessing aspects of the neural network as well as building the model (TensorFlow, n.d.). \n",
    "\n",
    "In order for the reviews to be run through the CNN-LSTM neural network, the cleaned reviews were tokenized, converted to sequences of numbers, and then padded to a maximum length of 54 so that all reviews were the same length. This process separates each word of the review into individual tokens and then converts them to numerical representations that the model can then use. A maximum length of 54 was chosen as it is the length of the longest review in an effort to preserve all data within the reviews."
   ]
  },
  {
   "cell_type": "code",
   "execution_count": 26,
   "id": "301de163",
   "metadata": {},
   "outputs": [],
   "source": [
    "max_sequence_length = 42\n",
    "\n",
    "tokenizer = Tokenizer()\n",
    "\n",
    "tokenizer.fit_on_texts(df['cleaned_review'])\n",
    "sequences = tokenizer.texts_to_sequences(df['cleaned_review'])\n",
    "padded_sequences = pad_sequences(sequences, maxlen=max_sequence_length, truncating='post', padding='post')"
   ]
  },
  {
   "cell_type": "code",
   "execution_count": 27,
   "id": "8a9e1f42",
   "metadata": {},
   "outputs": [
    {
     "data": {
      "text/plain": [
       "array([1902,  220,   40,  505,    0,    0,    0,    0,    0,    0,    0,\n",
       "          0,    0,    0,    0,    0,    0,    0,    0,    0,    0,    0,\n",
       "          0,    0,    0,    0,    0,    0,    0,    0,    0,    0,    0,\n",
       "          0,    0,    0,    0,    0,    0,    0,    0,    0])"
      ]
     },
     "execution_count": 27,
     "metadata": {},
     "output_type": "execute_result"
    }
   ],
   "source": [
    "padded_sequences[0]"
   ]
  },
  {
   "cell_type": "markdown",
   "id": "a4151d78",
   "metadata": {},
   "source": [
    "### Split the Data for CNN-LSTM\n",
    "The data is again split into 80% training and 20% testing sets this time using the padded sequences for X and again the labeled ‘Recommended IND’ variable as y. The data is set to stratify so that both training and testing sets have similar proportions for each label and the data is shuffled."
   ]
  },
  {
   "cell_type": "code",
   "execution_count": 28,
   "id": "4b1ea52c",
   "metadata": {
    "scrolled": true
   },
   "outputs": [],
   "source": [
    "# Assign the target variable\n",
    "y = df['Sentiment']\n",
    "X = padded_sequences\n",
    "\n",
    "\n",
    "# Create Training and Testing Sets\n",
    "X_train, X_test, y_train, y_test = train_test_split(X, y,\n",
    "                                                   test_size=0.2,\n",
    "                                                   random_state=42,\n",
    "                                                   stratify=y,\n",
    "                                                   shuffle=True)"
   ]
  },
  {
   "cell_type": "markdown",
   "id": "c041058f",
   "metadata": {},
   "source": [
    "### Create Callbacks\n",
    "Callbacks can be created to do a variety of functions. For this model, an EarlyStopping callback is created to tell the model to stop training if the validation loss stops improving and to restore the model to the best weights achieved. Using this callback is a way to keep the model from overfitting."
   ]
  },
  {
   "cell_type": "markdown",
   "id": "da589535",
   "metadata": {},
   "source": [
    "### CNN-LSTM Model"
   ]
  },
  {
   "cell_type": "markdown",
   "id": "30679eed",
   "metadata": {},
   "source": [
    "### Build CNN-LSTM Model\n",
    "Using a Sequential model, layers are added starting with an embedding layer. The embedding layer sets the word embeddings for the model, dictated by vocabulary size and maximum review length.\n",
    "\n",
    "Following the embedding layer, a series of one-dimensional convolution, batch normalization, and max pooling layers are added. These are followed by a dropout layer, two LSTM layers each followed by a batch normalization layer, a dense layer followed by a final batch normalization layer, and the final dense output layer. \n",
    "\n",
    "All of the activation functions are set to 'leaky_relu' with the exception of the final dense layer which is 'sigmoid' so the model can output predictions. This activation was chosen as it had superior results based on experimentation.\n",
    "\n",
    "The model is compiled using the 'Adam' optimizer with a learning rate of 1e-5 and the binary crossentropy loss function.\n",
    "\n",
    "'Adam', a stochastic gradient descent optimizer, was selected for its efficient reliablity when dealing with a large number of parameters (Abadi et al., 2015).\n",
    "\n",
    "The binary crossentropy loss function was selected for this model because of its optimal performance with binary classification models (Introduction to Deep Learning with Keras)."
   ]
  },
  {
   "cell_type": "code",
   "execution_count": 29,
   "id": "ed4bf343",
   "metadata": {},
   "outputs": [
    {
     "name": "stdout",
     "output_type": "stream",
     "text": [
      "Trial 10 Complete [00h 00m 30s]\n",
      "val_loss: 0.4301881790161133\n",
      "\n",
      "Best val_loss So Far: 0.4255935251712799\n",
      "Total elapsed time: 00h 06m 03s\n",
      "INFO:tensorflow:Oracle triggered exit\n",
      "\n",
      "The hyperparameter search is complete.\n",
      "The optimal parameters are:\n",
      "Conv1D layer: 128\n",
      "Activation function 1: relu\n",
      "LSTM layer: 160\n",
      "Dropout rate: 0.6\n",
      "Dense layer 1: 512\n",
      "Activation function 2: sigmoid\n",
      "Learning rate for the optimizer: 0.0001\n",
      "\n"
     ]
    }
   ],
   "source": [
    "max_sequence_length = 42\n",
    "vocab_size = len(tokenizer.word_index) + 1 # Add 1 for the unknown token\n",
    "embedding_dim = word2vec_model.vector_size\n",
    "\n",
    "address = \"CNN-LSTM-Model\"\n",
    "\n",
    "\n",
    "# Establish callbacks\n",
    "early_stopping = EarlyStopping(monitor='val_loss', patience=3)\n",
    "modelCheckpoint = ModelCheckpoint('best_model.hdf5', save_best_only = True)\n",
    "\n",
    "\n",
    "def create_embedding_matrix(word2vec_model, tokenizer):\n",
    "    embedding_dim = word2vec_model.vector_size\n",
    "    vocab_size = len(tokenizer.word_index) + 1\n",
    "    embedding_matrix = np.zeros((vocab_size, embedding_dim))\n",
    "    for word, i in tokenizer.word_index.items():\n",
    "        if word in word2vec_model:\n",
    "            embedding_matrix[i] = word2vec_model[word]\n",
    "    return embedding_matrix\n",
    "\n",
    "embedding_matrix = create_embedding_matrix(word2vec_model, tokenizer)\n",
    "\n",
    "def build_model(hp):\n",
    "    model = tf.keras.Sequential([\n",
    "        tf.keras.layers.Embedding(\n",
    "            input_dim=vocab_size,\n",
    "            output_dim=embedding_dim,\n",
    "            input_length=max_sequence_length,\n",
    "            trainable=False,\n",
    "            weights=[embedding_matrix]\n",
    "        ),\n",
    "        tf.keras.layers.Conv1D(\n",
    "            hp.Int('conv1d', min_value=32, max_value=512, step=32),\n",
    "            kernel_size=3,\n",
    "            activation=hp.Choice('activation1', ['relu', 'sigmoid'])\n",
    "        ),\n",
    "        tf.keras.layers.MaxPooling1D(pool_size=2),\n",
    "        tf.keras.layers.LSTM(\n",
    "            hp.Int('lstm', min_value=32, max_value=512, step=32),\n",
    "            dropout=hp.Choice('dropout', [.0, .2, .4, .6])\n",
    "        ),\n",
    "        tf.keras.layers.Dense(\n",
    "            hp.Int('dense1', min_value=32, max_value=512, step=32),\n",
    "            activation=hp.Choice('activation2', ['relu', 'sigmoid'])\n",
    "        ),\n",
    "        tf.keras.layers.Dense(1, activation='sigmoid')\n",
    "    ])\n",
    "\n",
    "    model.compile(loss=tf.keras.losses.BinaryCrossentropy(),\n",
    "                  optimizer=tf.keras.optimizers.Adam(hp.Choice('opt',[1e-2,1e-3,1e-4])),\n",
    "                  metrics=['accuracy']\n",
    "    )\n",
    "    return model\n",
    "\n",
    "tuner = kt.RandomSearch(\n",
    "        build_model,\n",
    "        objective='val_loss',\n",
    "        max_trials=10,\n",
    "        overwrite=True,\n",
    "        directory=address,\n",
    "        project_name=\"sentiment_model\")\n",
    "\n",
    "tuner.search(X_train, y_train, epochs=100,\n",
    "                    validation_data=(X_test, y_test),\n",
    "                    callbacks = [early_stopping, modelCheckpoint],\n",
    "                    verbose=2)\n",
    "\n",
    "# Get the optimal hyperparameters\n",
    "best_hps=tuner.get_best_hyperparameters(num_trials=1)[0]\n",
    "\n",
    "print(f\"\"\"\n",
    "The hyperparameter search is complete.\n",
    "The optimal parameters are:\n",
    "Conv1D layer: {best_hps.get('conv1d')}\n",
    "Activation function 1: {best_hps.get('activation1')}\n",
    "LSTM layer: {best_hps.get('lstm')}\n",
    "Dropout rate: {best_hps.get('dropout')}\n",
    "Dense layer 1: {best_hps.get('dense1')}\n",
    "Activation function 2: {best_hps.get('activation2')}\n",
    "Learning rate for the optimizer: {best_hps.get('opt')}\n",
    "\"\"\")"
   ]
  },
  {
   "cell_type": "markdown",
   "id": "ca4f33f7",
   "metadata": {},
   "source": [
    "### Model Summary\n",
    "The model summary shows the output shape and the number of parameters for each layer.\n",
    "\n",
    "The model consists of:\n",
    "- Total params: 1,703,833\n",
    "- Trainable params: 383,233\n",
    "- Non-trainable params: 1,320,600"
   ]
  },
  {
   "cell_type": "code",
   "execution_count": 30,
   "id": "6ef847ec",
   "metadata": {},
   "outputs": [
    {
     "name": "stdout",
     "output_type": "stream",
     "text": [
      "Model: \"sequential_1\"\n",
      "_________________________________________________________________\n",
      " Layer (type)                Output Shape              Param #   \n",
      "=================================================================\n",
      " embedding_1 (Embedding)     (None, 42, 300)           1320600   \n",
      "                                                                 \n",
      " conv1d_1 (Conv1D)           (None, 40, 128)           115328    \n",
      "                                                                 \n",
      " max_pooling1d_1 (MaxPoolin  (None, 20, 128)           0         \n",
      " g1D)                                                            \n",
      "                                                                 \n",
      " lstm_1 (LSTM)               (None, 160)               184960    \n",
      "                                                                 \n",
      " dense_2 (Dense)             (None, 512)               82432     \n",
      "                                                                 \n",
      " dense_3 (Dense)             (None, 1)                 513       \n",
      "                                                                 \n",
      "=================================================================\n",
      "Total params: 1703833 (6.50 MB)\n",
      "Trainable params: 383233 (1.46 MB)\n",
      "Non-trainable params: 1320600 (5.04 MB)\n",
      "_________________________________________________________________\n"
     ]
    }
   ],
   "source": [
    "model = tuner.hypermodel.build(best_hps)\n",
    "model.summary()"
   ]
  },
  {
   "cell_type": "markdown",
   "id": "bae48f6b",
   "metadata": {},
   "source": [
    "### Train the Model\n",
    "The model is trained using the training set, a batch size of 25, 100 epochs but utilizing the EarlyStopping callback, the testing set is used for the validation data, and the calculated class weights are applied. \n",
    "\n",
    "The training stopped at epoch 29 and the model reset the weights to be best epoch which was epcoh 19."
   ]
  },
  {
   "cell_type": "code",
   "execution_count": 31,
   "id": "1b3a964d",
   "metadata": {
    "scrolled": false
   },
   "outputs": [
    {
     "name": "stdout",
     "output_type": "stream",
     "text": [
      "Epoch 1/100\n",
      "69/69 - 3s - loss: 0.6950 - accuracy: 0.4945 - val_loss: 0.6930 - val_accuracy: 0.5046 - 3s/epoch - 41ms/step\n",
      "Epoch 2/100\n",
      "69/69 - 1s - loss: 0.6852 - accuracy: 0.5229 - val_loss: 0.6111 - val_accuracy: 0.7221 - 1s/epoch - 17ms/step\n",
      "Epoch 3/100\n",
      "69/69 - 1s - loss: 0.5461 - accuracy: 0.7262 - val_loss: 0.4758 - val_accuracy: 0.7989 - 1s/epoch - 17ms/step\n",
      "Epoch 4/100\n",
      "69/69 - 1s - loss: 0.4906 - accuracy: 0.7775 - val_loss: 0.4639 - val_accuracy: 0.8007 - 1s/epoch - 17ms/step\n",
      "Epoch 5/100\n",
      "69/69 - 1s - loss: 0.4320 - accuracy: 0.8072 - val_loss: 0.4344 - val_accuracy: 0.8062 - 1s/epoch - 17ms/step\n",
      "Epoch 6/100\n",
      "69/69 - 1s - loss: 0.4132 - accuracy: 0.8150 - val_loss: 0.4303 - val_accuracy: 0.8135 - 1s/epoch - 17ms/step\n",
      "Epoch 7/100\n",
      "69/69 - 1s - loss: 0.3925 - accuracy: 0.8292 - val_loss: 0.4269 - val_accuracy: 0.8135 - 1s/epoch - 17ms/step\n",
      "Epoch 8/100\n",
      "69/69 - 1s - loss: 0.3632 - accuracy: 0.8553 - val_loss: 0.4360 - val_accuracy: 0.8135 - 1s/epoch - 16ms/step\n",
      "Epoch 9/100\n",
      "69/69 - 1s - loss: 0.3507 - accuracy: 0.8475 - val_loss: 0.4341 - val_accuracy: 0.8154 - 1s/epoch - 16ms/step\n",
      "Epoch 10/100\n",
      "69/69 - 1s - loss: 0.3180 - accuracy: 0.8741 - val_loss: 0.4344 - val_accuracy: 0.8227 - 1s/epoch - 16ms/step\n",
      "Best epoch: 7\n"
     ]
    }
   ],
   "source": [
    "# Build model with optimal hyperparams and train it on the data\n",
    "history = model.fit(X_train, y_train, epochs=100,\n",
    "                    validation_data=(X_test, y_test),\n",
    "                    callbacks = [early_stopping, modelCheckpoint],\n",
    "                    verbose=2)\n",
    "\n",
    "val_loss_per_epoch = history.history['val_loss']\n",
    "best_epoch = val_loss_per_epoch.index(min(val_loss_per_epoch)) + 1\n",
    "print('Best epoch: %d' % (best_epoch,))"
   ]
  },
  {
   "cell_type": "markdown",
   "id": "ac0a019a",
   "metadata": {},
   "source": [
    "### Retrain Model with Best Epoch"
   ]
  },
  {
   "cell_type": "code",
   "execution_count": 32,
   "id": "8ce41b0f",
   "metadata": {},
   "outputs": [
    {
     "name": "stdout",
     "output_type": "stream",
     "text": [
      "Epoch 1/7\n",
      "69/69 - 3s - loss: 0.6972 - accuracy: 0.4986 - val_loss: 0.6922 - val_accuracy: 0.5046 - 3s/epoch - 40ms/step\n",
      "Epoch 2/7\n",
      "69/69 - 1s - loss: 0.6869 - accuracy: 0.5169 - val_loss: 0.6496 - val_accuracy: 0.7294 - 1s/epoch - 17ms/step\n",
      "Epoch 3/7\n",
      "69/69 - 1s - loss: 0.5586 - accuracy: 0.7207 - val_loss: 0.4767 - val_accuracy: 0.7916 - 1s/epoch - 17ms/step\n",
      "Epoch 4/7\n",
      "69/69 - 1s - loss: 0.4692 - accuracy: 0.7839 - val_loss: 0.4493 - val_accuracy: 0.8044 - 1s/epoch - 17ms/step\n",
      "Epoch 5/7\n",
      "69/69 - 1s - loss: 0.4359 - accuracy: 0.8072 - val_loss: 0.4393 - val_accuracy: 0.8099 - 1s/epoch - 17ms/step\n",
      "Epoch 6/7\n",
      "69/69 - 1s - loss: 0.4166 - accuracy: 0.8210 - val_loss: 0.4325 - val_accuracy: 0.8117 - 1s/epoch - 16ms/step\n",
      "Epoch 7/7\n",
      "69/69 - 1s - loss: 0.3779 - accuracy: 0.8416 - val_loss: 0.4297 - val_accuracy: 0.8172 - 1s/epoch - 17ms/step\n"
     ]
    }
   ],
   "source": [
    "hypermodel = tuner.hypermodel.build(best_hps)\n",
    "\n",
    "# Retrain the model\n",
    "history = hypermodel.fit(X_train, y_train, epochs=best_epoch,\n",
    "                validation_data=(X_test, y_test),\n",
    "                callbacks = [early_stopping, modelCheckpoint],\n",
    "                verbose=2)"
   ]
  },
  {
   "cell_type": "markdown",
   "id": "2d11da42",
   "metadata": {},
   "source": [
    "### Calculate Accuracy and Loss\n",
    "Using the testing portion of the data, the model is evaluated and the loss and accuracy are calculated. The loss is 31.59% and the accuracy is 89.44%."
   ]
  },
  {
   "cell_type": "code",
   "execution_count": 33,
   "id": "b4cd9f79",
   "metadata": {},
   "outputs": [
    {
     "name": "stdout",
     "output_type": "stream",
     "text": [
      "18/18 [==============================] - 0s 6ms/step - loss: 0.4297 - accuracy: 0.8172\n",
      "Test Loss: 0.42967379093170166\n",
      "Test Accuracy: 0.8171846270561218\n"
     ]
    }
   ],
   "source": [
    "test_loss, test_acc = hypermodel.evaluate(X_test, y_test)\n",
    "\n",
    "print('Test Loss:', test_loss)\n",
    "print('Test Accuracy:', test_acc)"
   ]
  },
  {
   "cell_type": "markdown",
   "id": "a6aa68b0",
   "metadata": {},
   "source": [
    "### Accuracy and Loss Plots\n",
    "Two plots were generated, an accuracy and a loss plot. The accuracy plot compares the training and validation accuracy across epochs. The loss plot compares the training and validation loss across epochs."
   ]
  },
  {
   "cell_type": "code",
   "execution_count": 34,
   "id": "20815d8c",
   "metadata": {
    "scrolled": false
   },
   "outputs": [
    {
     "data": {
      "text/plain": [
       "(0.0, 0.7132048413157464)"
      ]
     },
     "execution_count": 34,
     "metadata": {},
     "output_type": "execute_result"
    },
    {
     "data": {
      "image/png": "[encoded data removed]",
      "text/plain": [
       "<Figure size 1600x800 with 2 Axes>"
      ]
     },
     "metadata": {},
     "output_type": "display_data"
    }
   ],
   "source": [
    "plt.figure(figsize=(16, 8))\n",
    "plt.subplot(1, 2, 1)\n",
    "plot_graphs(history, 'accuracy')\n",
    "plt.ylim(None, 1)\n",
    "plt.subplot(1, 2, 2)\n",
    "plot_graphs(history, 'loss')\n",
    "plt.ylim(0, None)"
   ]
  },
  {
   "cell_type": "markdown",
   "id": "913a05f9",
   "metadata": {},
   "source": [
    "### CNN-LSTM Classification Report\n",
    "In order to compare this model with the logistic regression, a classification report was also run on the results from the CNN-LSTM model. The F1-score for label 0 is 71% with 820 samples and the F1-score for label 1 is 93% with 3708 samples. The macro F1-score for this model is 82%."
   ]
  },
  {
   "cell_type": "code",
   "execution_count": 35,
   "id": "dbc2ffd8",
   "metadata": {
    "scrolled": true
   },
   "outputs": [
    {
     "name": "stdout",
     "output_type": "stream",
     "text": [
      "18/18 [==============================] - 0s 5ms/step\n",
      "              precision    recall  f1-score   support\n",
      "\n",
      "           0       0.82      0.82      0.82       271\n",
      "           1       0.83      0.82      0.82       276\n",
      "\n",
      "    accuracy                           0.82       547\n",
      "   macro avg       0.82      0.82      0.82       547\n",
      "weighted avg       0.82      0.82      0.82       547\n",
      "\n"
     ]
    }
   ],
   "source": [
    "# Extract predicted probabilities from neural network\n",
    "p_pred = model.predict(X_test)\n",
    "p_pred = p_pred.flatten()\n",
    "\n",
    "# Extract predicted class labels\n",
    "p = 0.5\n",
    "y_pred = p_pred > p\n",
    "\n",
    "print(classification_report(y_test, y_pred))"
   ]
  },
  {
   "cell_type": "markdown",
   "id": "a5bb3ca3",
   "metadata": {},
   "source": [
    "### CNN-LSTM Confusion Matrix\n",
    "A confusion matrix was created for the CNN-LSTM model using the same techniques as with the logistic regression model.\n",
    "\n",
    "The true positives can be seen on the diagonal with label Not Recommended (0) having 619 correct predictions and label Recommended (1) with 3391 correct predictions. Again, the other numbers represent false positives and false negatives for both classes."
   ]
  },
  {
   "cell_type": "code",
   "execution_count": 36,
   "id": "494758d6",
   "metadata": {},
   "outputs": [
    {
     "data": {
      "image/png": "[encoded data removed]",
      "text/plain": [
       "<Figure size 1400x600 with 2 Axes>"
      ]
     },
     "metadata": {},
     "output_type": "display_data"
    }
   ],
   "source": [
    "nn_confusion_matrix = confusion_matrix(y_test, y_pred)\n",
    "\n",
    "class_names=[\"0\", \"1\"]\n",
    "fig, ax = plt.subplots()\n",
    "tick_marks = np.arange(len(class_names))\n",
    "plt.xticks(tick_marks, class_names)\n",
    "plt.yticks(tick_marks, class_names)\n",
    "\n",
    "# create heatmap\n",
    "sns.heatmap(pd.DataFrame(nn_confusion_matrix), annot=True, cmap=\"BuPu\" ,fmt='g', robust=True, center=0,\n",
    "           xticklabels=[\"0\", \"1\"], yticklabels=['0', '1'])\n",
    "ax.xaxis.set_label_position(\"top\")\n",
    "plt.tight_layout()\n",
    "plt.title('CNN-LSTM Confusion Matrix', y=1.1)\n",
    "plt.ylabel('Actual')\n",
    "plt.xlabel('Predicted');"
   ]
  },
  {
   "attachments": {
    "image-2.png": {
     "image/png": "[encoded data removed]"
    }
   },
   "cell_type": "markdown",
   "id": "3c43678b",
   "metadata": {},
   "source": [
    "### Summary and Implications\n",
    "The results of the data analysis show that the logistic regression model is better able to predict customer sentiment from the online customer reviews. The table below highlights the accuracy of both models:\n",
    "![image-2.png](attachment:image-2.png)\n",
    "The F1-scores indicate that the logistic regression has a macro average of 84% while the CNN-LSTM neural network was only able to achieve a macro average of 83%. Looking at the accuracy of the labels separately, both models were able to predict on label 1 for an F1-score of 93% but the neural network struggled with recall for label 0 and as such could only achieve an F1-score of 72%.\n",
    "\n",
    "One limitation of this analysis is that the classes were imbalanced and despite the application of class weights to the models, the classification reports clearly show that the effects of the imbalance were still present even though these results were improved above baseline models without weights applied.\n",
    "\n",
    "Based on these results, the clothing company should utilize the logistic regression model to monitor customer reviews as it can successfully analyze customer sentiment on new online reviews with 84% accuracy. This will allow the company to quickly identify potential issues such as the loss of consumer support and improve the products and services they offer to capitalize on these positive customer experiences (Kumar, 2021).\n",
    "\n",
    "Suggestions for future study are:\n",
    "•\tUse an ensemble classification method such as random forest to enhance accuracy and limit impact of class imbalance\n",
    "•\tUse a different variable for the sentiment labels such as Rating that might more accurately capture customer sentiment"
   ]
  }
 ],
 "metadata": {
  "kernelspec": {
   "display_name": "Python 3 (ipykernel)",
   "language": "python",
   "name": "python3"
  },
  "language_info": {
   "codemirror_mode": {
    "name": "ipython",
    "version": 3
   },
   "file_extension": ".py",
   "mimetype": "text/x-python",
   "name": "python",
   "nbconvert_exporter": "python",
   "pygments_lexer": "ipython3",
   "version": "3.8.17"
  }
 },
 "nbformat": 4,
 "nbformat_minor": 5
}
