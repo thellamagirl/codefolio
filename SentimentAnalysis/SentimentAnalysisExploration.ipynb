{
 "cells": [
  {
   "cell_type": "markdown",
   "id": "d827ce17",
   "metadata": {},
   "source": [
    "# Unveiling Sentiments: Exploring Customer Reviews using Logistic Regression, Random Forest, and CNN-LSTM"
   ]
  },
  {
   "cell_type": "markdown",
   "id": "960d6ec5",
   "metadata": {},
   "source": [
    "### Imports"
   ]
  },
  {
   "cell_type": "code",
   "execution_count": 1,
   "id": "4cf56b38",
   "metadata": {},
   "outputs": [],
   "source": [
    "import random\n",
    "import warnings\n",
    "\n",
    "import numpy as np\n",
    "import pandas as pd\n",
    "import seaborn as sns\n",
    "import matplotlib.pyplot as plt\n",
    "\n",
    "import tensorflow as tf\n",
    "from tensorflow.keras.preprocessing.text import Tokenizer\n",
    "from tensorflow.keras.preprocessing.sequence import pad_sequences\n",
    "from tensorflow.keras.models import Sequential\n",
    "from tensorflow.keras.layers import Embedding, Conv1D, MaxPooling1D, LSTM, Dense\n",
    "from tensorflow import keras\n",
    "import keras_tuner as kt\n",
    "from tensorflow.keras.callbacks import EarlyStopping, ModelCheckpoint\n",
    "\n",
    "from sklearn.model_selection import train_test_split, GridSearchCV\n",
    "from sklearn.feature_extraction.text import TfidfVectorizer\n",
    "from sklearn.linear_model import LogisticRegressionCV\n",
    "from sklearn.metrics import classification_report, confusion_matrix\n",
    "from sklearn.metrics import mean_squared_error as MSE\n",
    "from sklearn.metrics import accuracy_score, f1_score, recall_score, precision_score\n",
    "from sklearn.metrics import log_loss, roc_auc_score\n",
    "from sklearn.ensemble import RandomForestRegressor\n",
    "\n",
    "import nltk\n",
    "from nltk import word_tokenize\n",
    "from nltk.corpus import stopwords\n",
    "from nltk.stem import WordNetLemmatizer\n",
    "\n",
    "from gensim.models import Word2Vec, KeyedVectors\n",
    "\n",
    "from pylab import rcParams\n",
    "\n",
    "rcParams['figure.figsize'] = 6, 5\n",
    "%matplotlib inline\n",
    "sns.set_theme(style='white')\n",
    "\n",
    "from wordcloud import WordCloud\n",
    "\n",
    "# Set random seeds\n",
    "np.random.seed(42)\n",
    "random.seed(42)\n",
    "tf.random.set_seed(42)\n",
    "\n",
    "# Plot function\n",
    "def plot_graphs(history, metric):\n",
    "    plt.plot(history.history[metric])\n",
    "    plt.plot(history.history['val_'+metric], '')\n",
    "    plt.xlabel(\"Epochs\")\n",
    "    plt.ylabel(metric)\n",
    "    plt.legend([metric, 'val_'+metric])"
   ]
  },
  {
   "cell_type": "markdown",
   "id": "82392fc5",
   "metadata": {},
   "source": [
    "### Combine Review Texts into Single CSV for Sentiment Analysis\n",
    "The code combines review texts from three separate text files (Amazon reviews, IMDB movie reviews, and Yelp reviews) into a single CSV file. This consolidated dataset is then used for sentiment analysis in the project."
   ]
  },
  {
   "cell_type": "code",
   "execution_count": 2,
   "id": "e63f9713",
   "metadata": {},
   "outputs": [],
   "source": [
    "# Define file addresses\n",
    "address1 = \"Data/amazon_cells_labelled.txt\"\n",
    "address2 = \"Data/imdb_labelled.txt\"\n",
    "address3 = \"Data/yelp_labelled.txt\"\n",
    "\n",
    "# Read data from files into dataframes\n",
    "df1 = pd.read_csv(address1, delimiter='\\t', header=None)\n",
    "df2 = pd.read_csv(address2, delimiter='\\t', header=None)\n",
    "df3 = pd.read_csv(address3, delimiter='\\t', header=None)\n",
    "\n",
    "# Concatenate the dataframes vertically\n",
    "df = pd.concat([df1, df2, df3], axis=0)\n",
    "\n",
    "# Set column names\n",
    "df.columns = [\"Review\", \"Sentiment\"]\n",
    "\n",
    "# Uncomment the line below if you want to save the combined data to a CSV file\n",
    "#df.to_csv('combined_data.csv', index=False)"
   ]
  },
  {
   "cell_type": "markdown",
   "id": "b3ce9a68",
   "metadata": {},
   "source": [
    "### Data Reading with Pandas\n",
    "The data file was read into a Pandas dataframe using the Pandas library."
   ]
  },
  {
   "cell_type": "code",
   "execution_count": 3,
   "id": "a8f53ec3",
   "metadata": {},
   "outputs": [
    {
     "data": {
      "text/html": [
       "<div>\n",
       "<style scoped>\n",
       "    .dataframe tbody tr th:only-of-type {\n",
       "        vertical-align: middle;\n",
       "    }\n",
       "\n",
       "    .dataframe tbody tr th {\n",
       "        vertical-align: top;\n",
       "    }\n",
       "\n",
       "    .dataframe thead th {\n",
       "        text-align: right;\n",
       "    }\n",
       "</style>\n",
       "<table border=\"1\" class=\"dataframe\">\n",
       "  <thead>\n",
       "    <tr style=\"text-align: right;\">\n",
       "      <th></th>\n",
       "      <th>Review</th>\n",
       "      <th>Sentiment</th>\n",
       "    </tr>\n",
       "  </thead>\n",
       "  <tbody>\n",
       "    <tr>\n",
       "      <th>0</th>\n",
       "      <td>So there is no way for me to plug it in here i...</td>\n",
       "      <td>0</td>\n",
       "    </tr>\n",
       "    <tr>\n",
       "      <th>1</th>\n",
       "      <td>Good case, Excellent value.</td>\n",
       "      <td>1</td>\n",
       "    </tr>\n",
       "    <tr>\n",
       "      <th>2</th>\n",
       "      <td>Great for the jawbone.</td>\n",
       "      <td>1</td>\n",
       "    </tr>\n",
       "    <tr>\n",
       "      <th>3</th>\n",
       "      <td>Tied to charger for conversations lasting more...</td>\n",
       "      <td>0</td>\n",
       "    </tr>\n",
       "    <tr>\n",
       "      <th>4</th>\n",
       "      <td>The mic is great.</td>\n",
       "      <td>1</td>\n",
       "    </tr>\n",
       "  </tbody>\n",
       "</table>\n",
       "</div>"
      ],
      "text/plain": [
       "                                              Review  Sentiment\n",
       "0  So there is no way for me to plug it in here i...          0\n",
       "1                        Good case, Excellent value.          1\n",
       "2                             Great for the jawbone.          1\n",
       "3  Tied to charger for conversations lasting more...          0\n",
       "4                                  The mic is great.          1"
      ]
     },
     "execution_count": 3,
     "metadata": {},
     "output_type": "execute_result"
    }
   ],
   "source": [
    "# Read in dataframe\n",
    "df = pd.read_csv('combined_data.csv')\n",
    "\n",
    "# Display the first few rows of the combined dataframe\n",
    "df.head()"
   ]
  },
  {
   "cell_type": "markdown",
   "id": "3f0921a3",
   "metadata": {},
   "source": [
    "## Data Cleaning"
   ]
  },
  {
   "cell_type": "markdown",
   "id": "c74c44ed",
   "metadata": {},
   "source": [
    "### Remove Duplicate Values in Review Column\n",
    "All rows consisting of duplicate values were dropped from the dataframe. Using the length of the dataframe as a reference, performing this step removed 17 rows that contained duplicate values."
   ]
  },
  {
   "cell_type": "code",
   "execution_count": 4,
   "id": "106e6f37",
   "metadata": {},
   "outputs": [
    {
     "name": "stdout",
     "output_type": "stream",
     "text": [
      "Length of the dataframe: 2731\n"
     ]
    }
   ],
   "source": [
    "# Drop duplicate rows\n",
    "df.drop_duplicates(inplace=True)\n",
    "\n",
    "# Reset the index\n",
    "df = df.reset_index(drop=True)\n",
    "\n",
    "# Get the length of the dataframe\n",
    "df_length = len(df)\n",
    "\n",
    "print(\"Length of the dataframe:\", df_length)"
   ]
  },
  {
   "cell_type": "markdown",
   "id": "1de3ae5c",
   "metadata": {},
   "source": [
    "### Clean and Tokenize Reviews\n",
    "Text preprocessing is a crucial step in natural language processing (NLP). In this project, a custom function was created using well-known tools from the NLTK library to perform the necessary text processing.\n",
    "\n",
    "The function applies a series of transformations to the reviews:\n",
    "\n",
    "- Conversion to lowercase: All letters in the reviews are converted to lowercase for consistency.\n",
    "- Tokenization: The reviews are tokenized, separating them into individual word tokens.\n",
    "- Lemmatization: The tokens are lemmatized to reduce words to their base form, improving analysis accuracy.\n",
    "- Stopword removal: Commonly occurring stop words are removed to eliminate noise in the text.\n",
    "- Alphabetic character retention: Only tokens containing alphabetic characters are retained, filtering out numbers and special characters.\n",
    "- Unique token filtering: From the cleaned tokens, only unique tokens greater than two letters in length are kept in each review.\n",
    "\n",
    "After the cleaning and tokenization process, the number of tokens in each review is counted. Any reviews with zero tokens are dropped from the dataset as they do not contain meaningful information for analysis.\n",
    "\n",
    "The cleaned reviews are then stored in two new columns in the dataframe. One column contains the tokenized reviews, where each review is represented as a list of individual tokens. The other column contains the cleaned reviews as strings, where the tokens are joined into a cleaned review text.\n",
    "\n",
    "Additionally, the code counts the vocabulary size by analyzing the tokenized review column. This information will be used when building the CNN-LSTM neural network.\n",
    "\n",
    "By applying these cleaning and tokenization steps, as well as filtering out reviews with zero tokens, the reviews are transformed into a structured and standardized format, ready for further analysis in the project."
   ]
  },
  {
   "cell_type": "code",
   "execution_count": 5,
   "id": "559fb44f",
   "metadata": {},
   "outputs": [
    {
     "data": {
      "text/html": [
       "<div>\n",
       "<style scoped>\n",
       "    .dataframe tbody tr th:only-of-type {\n",
       "        vertical-align: middle;\n",
       "    }\n",
       "\n",
       "    .dataframe tbody tr th {\n",
       "        vertical-align: top;\n",
       "    }\n",
       "\n",
       "    .dataframe thead th {\n",
       "        text-align: right;\n",
       "    }\n",
       "</style>\n",
       "<table border=\"1\" class=\"dataframe\">\n",
       "  <thead>\n",
       "    <tr style=\"text-align: right;\">\n",
       "      <th></th>\n",
       "      <th>Review</th>\n",
       "      <th>Sentiment</th>\n",
       "      <th>tokenized_review</th>\n",
       "      <th>cleaned_review</th>\n",
       "    </tr>\n",
       "  </thead>\n",
       "  <tbody>\n",
       "    <tr>\n",
       "      <th>0</th>\n",
       "      <td>So there is no way for me to plug it in here i...</td>\n",
       "      <td>0</td>\n",
       "      <td>{plug, converter, way, unless}</td>\n",
       "      <td>plug converter way unless</td>\n",
       "    </tr>\n",
       "    <tr>\n",
       "      <th>1</th>\n",
       "      <td>Good case, Excellent value.</td>\n",
       "      <td>1</td>\n",
       "      <td>{good, case, value, excellent}</td>\n",
       "      <td>good case value excellent</td>\n",
       "    </tr>\n",
       "    <tr>\n",
       "      <th>2</th>\n",
       "      <td>Great for the jawbone.</td>\n",
       "      <td>1</td>\n",
       "      <td>{great, jawbone}</td>\n",
       "      <td>great jawbone</td>\n",
       "    </tr>\n",
       "    <tr>\n",
       "      <th>3</th>\n",
       "      <td>Tied to charger for conversations lasting more...</td>\n",
       "      <td>0</td>\n",
       "      <td>{conversation, problem, tied, charger, lasting}</td>\n",
       "      <td>conversation problem tied charger lasting</td>\n",
       "    </tr>\n",
       "    <tr>\n",
       "      <th>4</th>\n",
       "      <td>The mic is great.</td>\n",
       "      <td>1</td>\n",
       "      <td>{mic, great}</td>\n",
       "      <td>mic great</td>\n",
       "    </tr>\n",
       "  </tbody>\n",
       "</table>\n",
       "</div>"
      ],
      "text/plain": [
       "                                              Review  Sentiment  \\\n",
       "0  So there is no way for me to plug it in here i...          0   \n",
       "1                        Good case, Excellent value.          1   \n",
       "2                             Great for the jawbone.          1   \n",
       "3  Tied to charger for conversations lasting more...          0   \n",
       "4                                  The mic is great.          1   \n",
       "\n",
       "                                  tokenized_review  \\\n",
       "0                   {plug, converter, way, unless}   \n",
       "1                   {good, case, value, excellent}   \n",
       "2                                 {great, jawbone}   \n",
       "3  {conversation, problem, tied, charger, lasting}   \n",
       "4                                     {mic, great}   \n",
       "\n",
       "                              cleaned_review  \n",
       "0                  plug converter way unless  \n",
       "1                  good case value excellent  \n",
       "2                              great jawbone  \n",
       "3  conversation problem tied charger lasting  \n",
       "4                                  mic great  "
      ]
     },
     "execution_count": 5,
     "metadata": {},
     "output_type": "execute_result"
    }
   ],
   "source": [
    "# Instantiate the WordNetLemmatizer\n",
    "wordnet_lemmatizer = WordNetLemmatizer()\n",
    "\n",
    "# Function to clean reviews and drop rows with 0 tokens\n",
    "def clean_reviews(text):\n",
    "    # Tokenize the text and convert to lowercase\n",
    "    tokens = word_tokenize(text.lower())\n",
    "    \n",
    "    # Check if the number of tokens is 0\n",
    "    if len(tokens) == 0:\n",
    "        return pd.Series([[], ''], index=['tokenized_review', 'cleaned_review'])\n",
    "    \n",
    "    # Get the list of stopwords\n",
    "    stop_words = nltk.corpus.stopwords.words('english')\n",
    "    \n",
    "    # Lemmatize the tokens\n",
    "    lemmas = [wordnet_lemmatizer.lemmatize(token) for token in tokens]\n",
    "    \n",
    "    # Filter out non-alphabetic words and stopwords\n",
    "    clean_text = [word for word in lemmas if word.isalpha() and not word in stop_words]\n",
    "    \n",
    "    # Get unique tokens with length greater than 1\n",
    "    unique_tokens = set([word for word in clean_text if len(word) > 2])\n",
    "    \n",
    "    # Join the unique tokens into a cleaned review string\n",
    "    cleaned_text = ' '.join(unique_tokens)\n",
    "    \n",
    "    return pd.Series([unique_tokens, cleaned_text], index=['tokenized_review', 'cleaned_review'])\n",
    "\n",
    "# Apply the clean_reviews function to the 'Review' column, creating new columns 'tokenized_review' and 'cleaned_review'\n",
    "df[['tokenized_review', 'cleaned_review']] = df['Review'].apply(clean_reviews)\n",
    "\n",
    "# Drop rows with 0 tokens\n",
    "df = df[df['tokenized_review'].apply(len) > 0]\n",
    "\n",
    "# Calculate the vocab_size\n",
    "vocabulary = set()\n",
    "for tokens in df['tokenized_review']:\n",
    "    vocabulary.update(tokens)\n",
    "vocab_size = len(vocabulary)\n",
    "\n",
    "# Display the first few rows of the dataframe\n",
    "df.head()"
   ]
  },
  {
   "cell_type": "markdown",
   "id": "d03c9091",
   "metadata": {},
   "source": [
    "## Word Embedding\n",
    "In this project, it was crucial to convert the words in each review into a numerical representation. This transformation process is known as word embedding, where words or text are mapped into a vector space to capture semantic relationships and contextual information. By representing words numerically, machine learning algorithms that require numerical inputs can be effectively utilized.\n",
    "\n",
    "To enhance the semantic relationships and patterns present in the review text, a pre-trained Word2Vec model was employed. Word embeddings encode semantic meanings and similarities between words, enabling the model to learn from the underlying patterns and relationships within the text data.\n",
    "\n",
    "The application of word embedding in this project facilitated the conversion of reviews into a numerical representation. This enabled the use of numerical-based models, particularly for sentiment analysis. By transforming the reviews into a numerical format, the models gained the ability to understand and analyze the text data, uncovering patterns and making predictions based on the learned relationships between words."
   ]
  },
  {
   "cell_type": "code",
   "execution_count": null,
   "id": "2348c31b",
   "metadata": {},
   "outputs": [],
   "source": [
    "# Load the pre-trained FastText model with the correct encoding\n",
    "word2vec_model = KeyedVectors.load_word2vec_format('wiki.en.vec')"
   ]
  },
  {
   "cell_type": "code",
   "execution_count": null,
   "id": "338610fd",
   "metadata": {},
   "outputs": [],
   "source": [
    "# Create empty lists to store the review embeddings\n",
    "review_embeddings = []\n",
    "\n",
    "# Iterate over tokenized reviews\n",
    "for review_tokens in df['tokenized_review']:\n",
    "    # Initialize an empty review embedding\n",
    "    review_embedding = np.zeros(word2vec_model.vector_size)\n",
    "    \n",
    "    # Iterate over tokens in the review\n",
    "    for token in review_tokens:\n",
    "        # Check if the token exists in the FastText vocabulary\n",
    "        if token in word2vec_model:\n",
    "            # Add the token's embedding to the review embedding\n",
    "            review_embedding += word2vec_model[token]\n",
    "    \n",
    "    # Append the review embedding to the list\n",
    "    review_embeddings.append(review_embedding)"
   ]
  },
  {
   "cell_type": "markdown",
   "id": "13e6139c",
   "metadata": {},
   "source": [
    "## Exploratory Data Analysis (EDA)\n",
    "In this section, various analyses were conducted to gain insights into the dataset. The following steps were performed:\n",
    "\n",
    "1. Dataset Information: The structure and summary of the dataset were examined using `df.info()`. This provided details such as the number of rows, columns, and column data types.\n",
    "\n",
    "2. Sentiment Distribution: The distribution of sentiments was visualized using a countplot on the 'Sentiment' column. `df['Sentiment'].value_counts()` was used to obtain the count of each sentiment class, enabling an understanding of the sentiment balance in the dataset.\n",
    "\n",
    "3. Word Frequency Analysis: A word cloud was generated to visualize the frequency of words in the dataset. This analysis provided a visual representation of the most common words or phrases present in the reviews.\n",
    "\n",
    "4. Review Length: The number of words in each review was calculated, providing insights into the length and complexity of the reviews. A histogram of word lengths was created to visualize the distribution and identify any patterns.\n",
    "\n",
    "These exploratory analyses shed light on the dataset, allowing for a better understanding of the sentiment distribution, prominent words or phrases, and the length characteristics of the reviews. This information serves as a foundation for further analysis and modeling in the project."
   ]
  },
  {
   "cell_type": "code",
   "execution_count": null,
   "id": "8f09a85f",
   "metadata": {},
   "outputs": [],
   "source": [
    "# Display information about the dataframe\n",
    "df.info();"
   ]
  },
  {
   "cell_type": "markdown",
   "id": "21265a2a",
   "metadata": {},
   "source": [
    "### Sentiment Distribution\n",
    "A count plot was created for the Sentiment variable. These count plots show the distribution by class and help visualize the class imbalance that will need to be handled during the analysis."
   ]
  },
  {
   "cell_type": "code",
   "execution_count": null,
   "id": "adf43e55",
   "metadata": {},
   "outputs": [],
   "source": [
    "sns.countplot(x='Sentiment', data=df, palette='hls')\n",
    "plt.title('Distribution by Sentiment')\n",
    "plt.show()"
   ]
  },
  {
   "cell_type": "code",
   "execution_count": null,
   "id": "49f18d05",
   "metadata": {
    "scrolled": true
   },
   "outputs": [],
   "source": [
    "df['Sentiment'].value_counts()"
   ]
  },
  {
   "cell_type": "markdown",
   "id": "08a796d5",
   "metadata": {},
   "source": [
    "### Word Frequency & Word Cloud Visualization\n",
    "To gain insights into the most frequent words in the review dataset, a word cloud visualization was created. The word cloud provides a visual representation of the most commonly occurring words in the dataset.\n",
    "\n",
    "The process began by combining all the cleaned review texts into a single string, representing the entire corpus of reviews. This consolidated text was then used to generate a word cloud using the WordCloud object from the WordCloud library. The word cloud was configured to have a width of 800 pixels, height of 400 pixels, and display a maximum of 200 words. The background color was set to white for clarity.\n",
    "\n",
    "The resulting word cloud was displayed using the matplotlib library, which allowed for the visualization of the word cloud image. The word cloud image presents the words in varying sizes based on their frequency, with more frequent words appearing larger and more prominent.\n",
    "\n",
    "The word cloud visualization provides a quick overview of the most frequent words in the dataset, highlighting the prominent themes or topics that emerge from the reviews. It serves as a useful tool for understanding the dominant sentiments or subjects expressed in the reviews, aiding in the exploration and analysis of the dataset."
   ]
  },
  {
   "cell_type": "code",
   "execution_count": null,
   "id": "d9e4d498",
   "metadata": {},
   "outputs": [],
   "source": [
    "# Combine all the cleaned review texts into a single string\n",
    "combined_text = ' '.join(df['cleaned_review'])\n",
    "\n",
    "# Create a WordCloud object\n",
    "wordcloud = WordCloud(width=800, height=400, max_words=200, background_color='white').generate(combined_text)\n",
    "\n",
    "# Display the word cloud using matplotlib\n",
    "plt.figure(figsize=(10, 5))\n",
    "plt.imshow(wordcloud, interpolation='bilinear')\n",
    "plt.axis('off')\n",
    "plt.show()"
   ]
  },
  {
   "cell_type": "markdown",
   "id": "e99206b5",
   "metadata": {},
   "source": [
    "### Calculate Number of Words per Review\n",
    "Although not directly required for sentiment analysis, knowing the number of words in each review is essential for certain tasks like setting a maximum length in neural networks. Additionally, exploring this aspect provides insights into how the review length influences sentiment analysis.\n",
    "\n",
    "To calculate the number of words in each review, the dataframe's built-in apply function was utilized in combination with a custom function. This function split each review by spaces, effectively separating individual words. The length of each split word was then calculated, and a new column containing the word count for each review was added to the dataframe.\n",
    "\n",
    "By incorporating this word count column into the dataframe, we gain valuable information about the length of each review, enabling a deeper understanding of how review length might impact sentiment analysis."
   ]
  },
  {
   "cell_type": "code",
   "execution_count": null,
   "id": "35334264",
   "metadata": {},
   "outputs": [],
   "source": [
    "# Function that returns number of tokens in set\n",
    "def token_count(token_set):\n",
    "    # Return length of token set\n",
    "    return len(token_set)\n",
    "\n",
    "# Create num_tokens feature in df\n",
    "df['num_tokens'] = df['tokenized_review'].apply(token_count)\n",
    "\n",
    "df.head()"
   ]
  },
  {
   "cell_type": "markdown",
   "id": "beb04814",
   "metadata": {},
   "source": [
    "### Exploring Review Lengths\n",
    "In this section, various statistics were calculated to gain insights into the lengths of the reviews. The following metrics were calculated:\n",
    "\n",
    "- Longest Review: The length of the longest review, representing the maximum number of tokens in a single review.\n",
    "- Shortest Review: The length of the shortest review, indicating the minimum number of tokens in a single review.\n",
    "- Average Review Length: The average number of tokens across all reviews, providing a measure of the typical length of a review.\n",
    "- Standard Deviation: The standard deviation of the review lengths, indicating the variation or spread of review lengths from the average.\n",
    "- Median Review Length: The median length of the reviews, representing the middle value when the review lengths are sorted.\n",
    "\n",
    "By computing these statistics, we obtain a comprehensive understanding of the distribution and characteristics of the review lengths in the dataset."
   ]
  },
  {
   "cell_type": "code",
   "execution_count": null,
   "id": "222d5f89",
   "metadata": {
    "scrolled": true
   },
   "outputs": [],
   "source": [
    "# Calculate review lengths\n",
    "review_lengths = df['num_tokens']\n",
    "\n",
    "# Calculate statistics\n",
    "longest_review = max(review_lengths)\n",
    "shortest_review = min(review_lengths)\n",
    "average_length = round(np.mean(review_lengths))\n",
    "standard_deviation = round(np.std(review_lengths))\n",
    "median_length = round(np.median(review_lengths))\n",
    "\n",
    "# Print the results\n",
    "print(f\"The longest review is {longest_review} tokens.\")\n",
    "print(f\"The shortest review is {shortest_review} tokens.\")\n",
    "print(f\"The average review length is {average_length} tokens.\")\n",
    "print(f\"The standard deviation of the token count is {standard_deviation} tokens.\")\n",
    "print(f\"The median review length is {median_length} tokens.\")"
   ]
  },
  {
   "cell_type": "markdown",
   "id": "b9f5d5d4",
   "metadata": {},
   "source": [
    "### Visualizing Review Length Distribution\n",
    "A a count plot was generated to visualize the distribution of the number of words per review. The plot is displayed using the Seaborn library, with a figure size of 14x6 and a white background style.\n",
    "\n",
    "The x-axis of the plot represents the number of words per review, while the y-axis represents the count of reviews falling into each length category. The color palette 'hls' was used to differentiate the bars in the plot.\n",
    "\n",
    "The plot provides an overview of the distribution of review lengths, allowing for a better understanding of the range and prevalence of different review lengths within the dataset."
   ]
  },
  {
   "cell_type": "code",
   "execution_count": null,
   "id": "fcdce330",
   "metadata": {},
   "outputs": [],
   "source": [
    "# Set the figure size and style\n",
    "sns.set(rc={'figure.figsize':(14, 6)}, style='white')\n",
    "\n",
    "# Create the count plot\n",
    "sns.countplot(x=df['num_tokens'], palette='hls')\n",
    "\n",
    "# Set plot labels and title\n",
    "plt.xlabel('Number of Words per Review')\n",
    "plt.ylabel('Count')\n",
    "plt.title('Review Length Distribution')\n",
    "\n",
    "# Display the plot\n",
    "plt.show();"
   ]
  },
  {
   "cell_type": "markdown",
   "id": "260ed5b7",
   "metadata": {},
   "source": [
    "### Split the Data\n",
    "To prepare the data for training and testing, it was split into training and testing sets. The review embeddings were used as the input feature (X), while the labeled Sentiment variable served as the target variable (y). The data was split in an 80:20 ratio, with 80% allocated for training and 20% for testing.\n",
    "\n",
    "The split was performed with the consideration of maintaining balanced proportions of each sentiment label in both the training and testing sets. This approach, known as stratified splitting, ensures that the distribution of sentiment labels is similar in both sets, avoiding potential bias or skewed performance evaluation.\n",
    "\n",
    "Additionally, the data was shuffled during the splitting process to prevent any inherent order or pattern from affecting the distribution of the sentiment labels across the sets.\n",
    "\n",
    "By splitting the data into training and testing sets, we create distinct subsets that can be used to train the model on a representative portion of the data and evaluate its performance on unseen data. This allows for a more robust assessment of the model's accuracy and generalization capabilities."
   ]
  },
  {
   "cell_type": "code",
   "execution_count": null,
   "id": "c361d7dd",
   "metadata": {},
   "outputs": [],
   "source": [
    "# Assign the target variable\n",
    "y = df['Sentiment']\n",
    "X = review_embeddings\n",
    "\n",
    "# Create Training and Testing Sets\n",
    "X_train, X_test, y_train, y_test = train_test_split(X, y,\n",
    "                                                   test_size=0.2,\n",
    "                                                   random_state=42,\n",
    "                                                   stratify=y,\n",
    "                                                   shuffle=True)"
   ]
  },
  {
   "cell_type": "markdown",
   "id": "0b652d9e",
   "metadata": {},
   "source": [
    "## Sentiment Analysis using Logistic Regression with Cross-Validation and Performance Evaluation\n",
    "\n",
    "In this project, logistic regression with cross-validation was employed to build a sentiment analysis model. The logistic regression model utilized the `LogisticRegressionCV` method from the sklearn library, which incorporates cross-validation for more reliable performance evaluation. In addition to that, the C and l1_ratios parameters are tuned using a stratified 5-fold cross-validation, optimum selection based upon accuracy scores (Pedregosa et al., 2011). \n",
    "\n",
    "The logistic regression model was trained on the training data and then used to predict labels for the test data. A threshold of 0.5 was applied to convert the continuous predicted values into binary predictions. The accuracy, precision, recall, and F1-score were calculated using these binary predictions against the true labels of the test data.\n",
    "\n",
    "The accuracy score reflects the proportion of correctly classified instances among all instances in the test data. The precision score measures the model's ability to correctly identify positive sentiment, while the recall score captures the model's ability to identify all positive sentiment instances. The F1-score provides a balanced measure of the model's precision and recall.\n",
    "\n",
    "Using the logistic regression model trained with cross-validation, the performance of the model on the test data was evaluated. The accuracy score on the test data was calculated to assess the overall correctness of the model's predictions. Additionally, precision, recall, and F1-score were determined to evaluate the model's classification performance for sentiment analysis.\n",
    "\n",
    "The logistic regression model achieved the following performance metrics on the test data:\n",
    "- Accuracy score on test data: 0.7967\n",
    "- Precision score on test data: 0.7887\n",
    "- Recall score on test data: 0.8145\n",
    "- F1-score on test data: 0.8014\n",
    "\n",
    "Furthermore, the log loss and AUC-ROC metrics were calculated to provide additional insights into the model's performance. The log loss measures the model's predictive uncertainty, with lower values indicating better performance. The AUC-ROC (Area Under the Receiver Operating Characteristic) score quantifies the model's ability to distinguish between positive and negative sentiment, with higher values indicating better discriminatory power.\n",
    "\n",
    "The logistic regression model achieved a log loss of 7.3276 and an AUC-ROC of 0.7966 on the test data.\n",
    "\n",
    "By employing logistic regression with cross-validation, this project establishes a reliable classification approach for sentiment analysis, allowing for accurate predictions and comprehensive evaluation of the model's performance on the test data."
   ]
  },
  {
   "cell_type": "code",
   "execution_count": null,
   "id": "0f9c5dcc",
   "metadata": {},
   "outputs": [],
   "source": [
    "# Train a logistic regression model with cross-validation\n",
    "log_reg = LogisticRegressionCV(random_state=42, n_jobs=-1, solver='liblinear', cv=5)\n",
    "log_reg.fit(X_train, y_train)\n",
    "\n",
    "# Predict the labels for the test data\n",
    "y_pred = log_reg.predict(X_test)\n",
    "\n",
    "# Apply threshold to convert continuous predicted values to binary predictions\n",
    "threshold = 0.5\n",
    "y_pred_binary = [1 if val > threshold else 0 for val in y_pred]\n",
    "\n",
    "# Calculate the evaluation metrics on the test data\n",
    "accuracy = accuracy_score(y_test, y_pred_binary)\n",
    "precision = precision_score(y_test, y_pred_binary)\n",
    "recall = recall_score(y_test, y_pred_binary)\n",
    "f1 = f1_score(y_test, y_pred_binary)\n",
    "log_loss_value = log_loss(y_test, y_pred_binary)\n",
    "roc_auc = roc_auc_score(y_test, y_pred_binary)\n",
    "\n",
    "# Print the evaluation metrics on the test data\n",
    "print('Accuracy score on test data: {:.4f}'.format(accuracy))\n",
    "print('Precision score on test data: {:.4f}'.format(precision))\n",
    "print('Recall score on test data: {:.4f}'.format(recall))\n",
    "print('F1-score on test data: {:.4f}'.format(f1))\n",
    "print('Log loss on test data: {:.4f}'.format(log_loss_value))\n",
    "print('AUC-ROC on test data: {:.4f}'.format(roc_auc))"
   ]
  },
  {
   "cell_type": "markdown",
   "id": "3ccf402a",
   "metadata": {},
   "source": [
    "### Logistic Regression Classification Report\n",
    "\n",
    "To assess the true performance of a model, it is essential to compare the predicted labels against the true labels. This evaluation provides a reliable measure of the model's accuracy when making predictions on new, unseen data. The F1-score is described as \"...the harmonic mean of the model’s precision and recall\" (Wood, 2019) is a useful metric to evaluate the model's overall performance.\n",
    "\n",
    "The F1-score provides an indication of the model's ability to achieve a balance between minimizing false positives (precision) and false negatives (recall).\n",
    "\n",
    "The classification report table below showcases the F1-scores for each sentiment label:\n",
    "\n",
    "| Sentiment Label | F1-Score | Number of Samples |\n",
    "|-----------------|----------|------------------|\n",
    "| Negative (0)    | 79%      | 271              |\n",
    "| Positive (1)    | 80%      | 275              |\n",
    "\n",
    "In the classification report, we observe that the logistic regression model achieved an F1-score of 79% for the negative sentiment label (label 0), indicating a good balance between precision and recall. The model correctly identified negative sentiment in 80% of the samples belonging to this category. Additionally, for the positive sentiment label (label 1), the model achieved an F1-score of 80%, demonstrating a similar balance between precision and recall in identifying positive sentiment.\n",
    "\n",
    "These results provide insights into the model's performance for each sentiment label, allowing for a more comprehensive understanding of its effectiveness in sentiment analysis."
   ]
  },
  {
   "cell_type": "code",
   "execution_count": null,
   "id": "58b25f22",
   "metadata": {
    "scrolled": true
   },
   "outputs": [],
   "source": [
    "print(classification_report(y_test, y_pred_binary))"
   ]
  },
  {
   "cell_type": "markdown",
   "id": "8239b2ec",
   "metadata": {},
   "source": [
    "### Logistic Regression Confusion Matrix Heatmap\n",
    "To visually analyze the performance of the logistic regression model, a confusion matrix was created using sklearn's `confusion_matrix` function and seaborn. The confusion matrix provides a comprehensive representation of the actual versus predicted counts for each label.\n",
    "\n",
    "In the generated confusion matrix heatmap, the diagonal elements represent the true positives for each class. For negative sentiment (label 0), there were 211 correct predictions, while for positive sentiment (label 1), there were 224 correct predictions. The off-diagonal elements correspond to the false positives and false negatives for both classes, representing the misclassifications made by the model."
   ]
  },
  {
   "cell_type": "code",
   "execution_count": null,
   "id": "918ed33e",
   "metadata": {},
   "outputs": [],
   "source": [
    "# Calculate the confusion matrix\n",
    "lr_confusion_matrix = confusion_matrix(y_test, y_pred_binary)\n",
    "\n",
    "class_names = ['0', '1']\n",
    "\n",
    "fig, ax = plt.subplots()\n",
    "tick_marks = np.arange(len(class_names))\n",
    "plt.xticks(tick_marks, class_names)\n",
    "plt.yticks(tick_marks, class_names)\n",
    "\n",
    "# Create the heatmap\n",
    "sns.heatmap(pd.DataFrame(lr_confusion_matrix), annot=True, cmap='viridis', fmt='g', robust=True, center=0,\n",
    "            xticklabels=class_names, yticklabels=class_names)\n",
    "ax.xaxis.set_label_position('top')\n",
    "plt.tight_layout()\n",
    "plt.title('Logistic Regression Confusion Matrix', y=1.1)\n",
    "plt.ylabel('Actual')\n",
    "plt.xlabel('Predicted')\n",
    "plt.show()"
   ]
  },
  {
   "cell_type": "markdown",
   "id": "15184e80",
   "metadata": {},
   "source": [
    "## Sentiment Analysis using Random Forest Regression with Cross-Validation and Performance Evaluation\n",
    "In this section, sentiment analysis was performed using Random Forest Regression with cross-validation. Random Forest was chosen as the prediction method for this analysis due to its ability to handle both linear and non-linear relationships and its ensemble nature.\n",
    "\n",
    "Random Forest is an ensemble model that utilizes multiple decision trees to arrive at the final predicted outcome (Chakure, 2020). It combines the predictions of multiple decision trees by aggregating them, typically using the average of the predictions. This ensemble approach allows Random Forest to capture complex patterns and relationships in the data, making it a suitable choice for sentiment analysis tasks.\n",
    "\n",
    "The Random Forest model was trained and evaluated using the same dataset as the logistic regression. It achieved the following performance metrics on the test data:\n",
    "\n",
    "- Accuracy score on test data: 0.7509\n",
    "- Precision score on test data: 0.7422\n",
    "- Recall score on test data: 0.7745\n",
    "- F1-score on test data: 0.7580\n",
    "\n",
    "In addition to these metrics, log loss and AUC-ROC were calculated to provide further insights into the model's performance. Log loss measures the predictive uncertainty of the model, with lower values indicating better performance. AUC-ROC (Area Under the Receiver Operating Characteristic) score quantifies the model's ability to distinguish between positive and negative sentiment, with higher values indicating better discriminatory power.\n",
    "\n",
    "The Random Forest model achieved a log loss of 8.9779 and an AUC-ROC of 0.7507 on the test data.\n",
    "\n",
    "By utilizing Random Forest regression with hyperparameter tuning, this project establishes an effective approach for sentiment analysis. The model demonstrates its ability to make accurate predictions and provides a comprehensive evaluation of its performance on the test data.\n",
    "\n",
    "The model was trained using the GridSearchCV technique to find the best combination of hyperparameters. The optimal hyperparameters obtained were as follows:\n",
    "\n",
    "- max_depth: 9\n",
    "- max_features: 0.5\n",
    "- min_samples_leaf: 2\n",
    "- n_estimators: 300\n",
    "\n",
    "The best model, obtained with these hyperparameters, was used to predict probabilities on the test data. A threshold of 0.5 was applied to convert the continuous predicted values to binary predictions. The evaluation metrics, including accuracy, precision, recall, and F1-score, were calculated based on these binary predictions. Additionally, log loss and AUC-ROC were computed to provide a more comprehensive assessment of the model's performance.\n",
    "\n",
    "The test set performance metrics of the Random Forest model further contribute to the overall comparison and evaluation of the different models employed in this project."
   ]
  },
  {
   "cell_type": "code",
   "execution_count": null,
   "id": "26c13467",
   "metadata": {
    "scrolled": true
   },
   "outputs": [],
   "source": [
    "# Instantiate RF \n",
    "rf = RandomForestRegressor(random_state=42)\n",
    "\n",
    "# Define hyperparams\n",
    "params_rf = {\n",
    "             'n_estimators':[400, 600, 800],\n",
    "             'max_depth':[5, 7, 9],\n",
    "             'min_samples_leaf':[1, 2, 3],\n",
    "             'max_features':['sqrt', 0.5, 0.9]\n",
    "            }\n",
    "\n",
    "# Instantiate grid search object 'grid_rf'\n",
    "grid_rf = GridSearchCV(estimator=rf,\n",
    "                       param_grid=params_rf,\n",
    "                       cv=5,\n",
    "                       scoring='neg_mean_squared_error',\n",
    "                       verbose=1,\n",
    "                       n_jobs=-1)\n",
    "# Fit 'grid_rf' to training data\n",
    "grid_rf.fit(X_train, y_train)\n",
    "\n",
    "# Extract best hyperparams from 'grid_rf'\n",
    "best_hyperparams = grid_rf.best_params_\n",
    "print('Best hyperparameters:\\n', best_hyperparams)\n",
    "\n",
    "# Extract best model from 'grid_rf'\n",
    "best_model = grid_rf.best_estimator_\n",
    "\n",
    "# Predict probabilities on test data\n",
    "y_pred = best_model.predict(X_test)\n",
    "\n",
    "# Apply threshold to convert continuous predicted values to binary predictions\n",
    "threshold = 0.5\n",
    "y_pred_binary = [1 if val > threshold else 0 for val in y_pred]\n",
    "\n",
    "# Calculate the evaluation metrics on the test data\n",
    "accuracy = accuracy_score(y_test, y_pred_binary)\n",
    "precision = precision_score(y_test, y_pred_binary)\n",
    "recall = recall_score(y_test, y_pred_binary)\n",
    "f1 = f1_score(y_test, y_pred_binary)\n",
    "logloss = log_loss(y_test, y_pred_binary)\n",
    "auc_roc = roc_auc_score(y_test, y_pred_binary)\n",
    "\n",
    "# Evaluate metrics on the test data\n",
    "mse_test = MSE(y_test, y_pred)\n",
    "rmse_test = mse_test ** (1 / 2)\n",
    "print()\n",
    "print('Test set RMSE: {:.4f}'.format(rmse_test))\n",
    "print('Test set MSE: {:.4f}'.format(mse_test))\n",
    "print('Test set accuracy: {:.4f}'.format(accuracy))\n",
    "print('Test set precision: {:.4f}'.format(precision))\n",
    "print('Test set recall: {:.4f}'.format(recall))\n",
    "print('Test set F1-score: {:.4f}'.format(f1))\n",
    "print('Test set log loss: {:.4f}'.format(logloss))\n",
    "print('Test set AUC-ROC: {:.4f}'.format(auc_roc))"
   ]
  },
  {
   "cell_type": "markdown",
   "id": "675defe9",
   "metadata": {},
   "source": [
    "### Random Forest Regression Classification Report\n",
    "To assess the true performance of the Random Forest model in sentiment analysis, we compare the predicted labels against the true labels on the test data. The F1-score, which is the harmonic mean of precision and recall, provides a reliable metric to evaluate the model's overall performance (Wood, 2019).\n",
    "\n",
    "The classification report below presents the F1-scores for each sentiment label:\n",
    "\n",
    "| Sentiment Label | F1-Score | Number of Samples |\n",
    "|-----------------|----------|------------------|\n",
    "| Negative (0)    | 74%      | 271              |\n",
    "| Positive (1)    | 76%      | 275              |\n",
    "\n",
    "The Random Forest model achieved an F1-score of 74% for the negative sentiment label (label 0), indicating a reasonable balance between precision and recall. The model correctly identified negative sentiment in 74% of the samples belonging to this category. For the positive sentiment label (label 1), the model achieved an F1-score of 76%, demonstrating a similar balance between precision and recall in identifying positive sentiment.\n",
    "\n",
    "The classification report further breaks down precision, recall, and F1-score for each sentiment label. It shows that the model's precision for the negative sentiment label is 76% and recall is 73%, while for the positive sentiment label, the precision is 74% and recall is 77%. These metrics highlight the model's ability to make accurate predictions for both negative and positive sentiment.\n",
    "\n",
    "Overall, the Random Forest model demonstrates a reasonable performance in sentiment analysis, achieving a balanced F1-score for both negative and positive sentiment labels. These results provide valuable insights into the model's effectiveness in accurately classifying sentiment and contribute to the comprehensive evaluation of the model's performance."
   ]
  },
  {
   "cell_type": "code",
   "execution_count": null,
   "id": "e4aecbbf",
   "metadata": {},
   "outputs": [],
   "source": [
    "print(classification_report(y_test, y_pred_binary))"
   ]
  },
  {
   "cell_type": "markdown",
   "id": "f22062d7",
   "metadata": {},
   "source": [
    "### Random Forest Confusion Matrix Heatmap\n",
    "To visually analyze the performance of the Random Forest model in sentiment analysis, a confusion matrix heatmap was created using the `confusion_matrix` function from sklearn and visualized using seaborn. The confusion matrix provides a comprehensive representation of the actual versus predicted counts for each sentiment label.\n",
    "\n",
    "In the generated confusion matrix heatmap, the diagonal elements represent the true positives for each class. For the negative sentiment (label 0), there were 197 correct predictions, indicating that the model accurately classified 197 samples as negative sentiment. Similarly, for the positive sentiment (label 1), there were 213 correct predictions, signifying the accurate classification of 213 samples as positive sentiment.\n",
    "\n",
    "The off-diagonal elements of the confusion matrix correspond to the false positives and false negatives for both sentiment labels. In this case, there were 62 false positives, indicating the instances where the model incorrectly predicted a positive sentiment when the true sentiment was negative. Additionally, there were 74 false negatives, representing the instances where the model incorrectly predicted a negative sentiment when the true sentiment was positive.\n",
    "\n",
    "By examining the confusion matrix heatmap, we can gain insights into the model's performance in terms of misclassifications and correct predictions for each sentiment label. This visualization allows for a more comprehensive understanding of the model's effectiveness in sentiment analysis and highlights areas where improvements can be made."
   ]
  },
  {
   "cell_type": "code",
   "execution_count": null,
   "id": "ece0ad35",
   "metadata": {},
   "outputs": [],
   "source": [
    "# Calculate the confusion matrix\n",
    "rf_confusion_matrix = confusion_matrix(y_test, y_pred_binary)\n",
    "\n",
    "class_names = ['0', '1']\n",
    "\n",
    "fig, ax = plt.subplots()\n",
    "tick_marks = np.arange(len(class_names))\n",
    "plt.xticks(tick_marks, class_names)\n",
    "plt.yticks(tick_marks, class_names)\n",
    "\n",
    "# Create the heatmap\n",
    "sns.heatmap(pd.DataFrame(rf_confusion_matrix), annot=True, cmap='viridis', fmt='g', robust=True, center=0,\n",
    "            xticklabels=class_names, yticklabels=class_names)\n",
    "ax.xaxis.set_label_position('top')\n",
    "plt.tight_layout()\n",
    "plt.title('Random Forest Confusion Matrix', y=1.1)\n",
    "plt.ylabel('Actual')\n",
    "plt.xlabel('Predicted')\n",
    "plt.show()"
   ]
  },
  {
   "cell_type": "markdown",
   "id": "da589535",
   "metadata": {},
   "source": [
    "## Sentiment Analysis with CNN-LSTM"
   ]
  },
  {
   "cell_type": "markdown",
   "id": "7a082499",
   "metadata": {},
   "source": [
    "### Preprocessing Text Data with TensorFlow\n",
    "\n",
    "TensorFlow was selected as the platform for the neural network due to its comprehensive set of tools and libraries that facilitate both preprocessing tasks and model building capabilities (TensorFlow, n.d.).\n",
    "\n",
    "To prepare the reviews for input into the CNN-LSTM neural network, a series of preprocessing steps were performed. First, the cleaned reviews were tokenized, which involved splitting the text into individual words or tokens. This tokenization step allows the network to treat each word as a separate unit.\n",
    "\n",
    "Next, the tokenized reviews were converted into sequences of numbers. Each unique word in the vocabulary was assigned a unique numerical index, and the reviews were transformed into sequences of these indices. This numerical representation enables the neural network to process and analyze the text data.\n",
    "\n",
    "To ensure that all reviews have the same length, padding was applied. The reviews were padded or truncated to a maximum sequence length of 17, which means that each review was represented by a fixed-length sequence of 17 numbers. This padding process guarantees uniform input dimensions for the neural network.\n",
    "\n",
    "The choice of a maximum sequence length of 17 was determined based on the distribution of review lengths. By setting the length to be 1 standard deviation above the median review length, the aim was to preserve the majority of sentiment information contained within the reviews. This approach helps to handle the varying lengths of reviews and ensures that important sentiment-related information is retained.\n",
    "\n",
    "By performing these preprocessing steps, the reviews were transformed into a suitable format for training the CNN-LSTM neural network using TensorFlow."
   ]
  },
  {
   "cell_type": "code",
   "execution_count": null,
   "id": "301de163",
   "metadata": {},
   "outputs": [],
   "source": [
    "max_sequence_length = 17 # med + 1 std\n",
    "\n",
    "tokenizer = Tokenizer()\n",
    "\n",
    "tokenizer.fit_on_texts(df['cleaned_review'])\n",
    "sequences = tokenizer.texts_to_sequences(df['cleaned_review'])\n",
    "padded_sequences = pad_sequences(sequences, maxlen=max_sequence_length, truncating='post', padding='post')"
   ]
  },
  {
   "cell_type": "code",
   "execution_count": null,
   "id": "8a9e1f42",
   "metadata": {},
   "outputs": [],
   "source": [
    "padded_sequences[0]"
   ]
  },
  {
   "cell_type": "markdown",
   "id": "a4151d78",
   "metadata": {},
   "source": [
    "### Splitting the Data for CNN-LSTM\n",
    "\n",
    "The dataset was partitioned into training and testing sets to facilitate the training and evaluation of the CNN-LSTM model. The splitting process involved allocating 80% of the data to the training set and the remaining 20% to the testing set. \n",
    "\n",
    "For the input features (X), the padded sequences obtained during the preprocessing step were utilized. These sequences represent the numerical representations of the reviews after tokenization and padding. The target variable, denoting the sentiment of each review, was assigned to 'Sentiment' (y).\n",
    "\n",
    "To ensure a representative distribution of sentiment labels in both the training and testing sets, stratification was applied. This stratification technique helps to maintain similar proportions of each sentiment label in both subsets, preventing any bias that may arise due to imbalanced data. Additionally, the data was shuffled to randomize the order of the samples during the splitting process.\n",
    "\n",
    "By splitting the data into distinct training and testing sets, we can effectively train the CNN-LSTM model on the training data and evaluate its performance on unseen data from the testing set. This separation enables us to assess the model's ability to generalize to new reviews and make accurate sentiment predictions."
   ]
  },
  {
   "cell_type": "code",
   "execution_count": null,
   "id": "4b1ea52c",
   "metadata": {
    "scrolled": true
   },
   "outputs": [],
   "source": [
    "# Assign the target variable\n",
    "y = df['Sentiment']\n",
    "X = padded_sequences\n",
    "\n",
    "\n",
    "# Create Training and Testing Sets\n",
    "X_train, X_test, y_train, y_test = train_test_split(X, y,\n",
    "                                                   test_size=0.2,\n",
    "                                                   random_state=42,\n",
    "                                                   stratify=y,\n",
    "                                                   shuffle=True)"
   ]
  },
  {
   "cell_type": "markdown",
   "id": "30679eed",
   "metadata": {},
   "source": [
    "### Building the CNN-LSTM Model\n",
    "\n",
    "The CNN-LSTM model was constructed using a Sequential model in TensorFlow, integrating both convolutional and recurrent neural network layers. This model leverages the power of deep learning to capture complex patterns and relationships within the review data.\n",
    "\n",
    "To enhance the performance and take advantage of pre-trained word embeddings, an embedding matrix was created using the Word2Vec model. This matrix was used as input to the embedding layer of the CNN-LSTM model. By incorporating the pre-trained embeddings, the model can benefit from the rich semantic information captured by the Word2Vec model, leading to a more effective representation of the textual data.\n",
    "\n",
    "The model architecture starts with an embedding layer, which sets the word embeddings for the model based on the vocabulary size and the maximum review length. The embedding layer converts each word in the review into a dense vector representation. \n",
    "\n",
    "Following the embedding layer, a series of layers are added to capture and extract features from the text data. This includes a one-dimensional convolutional layer, batch normalization layer, and max pooling layer. These layers help to detect local patterns and important features in the text data.\n",
    "\n",
    "Next, a dropout layer is added to reduce overfitting, followed by two LSTM layers, each accompanied by a batch normalization layer. The LSTM layers enable the model to capture long-term dependencies and sequential information in the reviews.\n",
    "\n",
    "Afterwards, a dense layer with batch normalization is added, which further processes the extracted features. Finally, a dense output layer with a sigmoid activation function is included to produce binary predictions for sentiment analysis.\n",
    "\n",
    "The model is compiled using the Adam optimizer, a popular stochastic gradient descent optimizer known for its efficiency when dealing with a large number of parameters (Abadi et al., 2015). The learning rate for the optimizer is set based on the optimal value obtained during hyperparameter tuning.\n",
    "\n",
    "Binary crossentropy loss function is utilized as it is well-suited for binary classification tasks, such as sentiment analysis (Introduction to Deep Learning with Keras). This loss function calculates the difference between the predicted and actual labels, optimizing the model's ability to accurately classify sentiment.\n",
    "\n",
    "To optimize the model's performance and find the best set of hyperparameters, a hyperparameter search was performed using Keras Tuner. The search involved tuning parameters such as the number of convolutional filters, activation functions, LSTM units, dropout rates, dense layer size, and the learning rate for the optimizer. The search was conducted for a maximum of 10 trials, aiming to minimize the validation loss.\n",
    "\n",
    "After the hyperparameter search, the best hyperparameters were obtained, revealing the optimal configuration for the CNN-LSTM model. These hyperparameters include the number of convolutional filters, activation functions, LSTM units, dropout rate, dense layer size, and the learning rate for the optimizer.\n",
    "\n",
    "The resulting model achieved a validation loss of 0.4289 during the hyperparameter search, indicating its ability to effectively learn and generalize patterns from the training data. The optimal hyperparameters serve as a guide for configuring the model to achieve improved performance in sentiment analysis.\n",
    "\n",
    "By utilizing the CNN-LSTM model architecture and optimizing its hyperparameters, the aim is to develop a robust and accurate sentiment analysis model capable of capturing intricate patterns in textual data."
   ]
  },
  {
   "cell_type": "code",
   "execution_count": null,
   "id": "ed4bf343",
   "metadata": {
    "scrolled": false
   },
   "outputs": [],
   "source": [
    "max_sequence_length = 17 # 1 std + median\n",
    "vocab_size = len(tokenizer.word_index) + 1 # Add 1 for the unknown token\n",
    "embedding_dim = word2vec_model.vector_size\n",
    "\n",
    "address = \"CNN-LSTM-Model\"\n",
    "\n",
    "\n",
    "# Establish callbacks\n",
    "early_stopping = EarlyStopping(monitor='val_loss', patience=4)\n",
    "modelCheckpoint = ModelCheckpoint('best_model.hdf5', save_best_only = True)\n",
    "\n",
    "\n",
    "def create_embedding_matrix(word2vec_model, tokenizer):\n",
    "    embedding_dim = word2vec_model.vector_size\n",
    "    vocab_size = len(tokenizer.word_index) + 1\n",
    "    embedding_matrix = np.zeros((vocab_size, embedding_dim))\n",
    "    for word, i in tokenizer.word_index.items():\n",
    "        if word in word2vec_model:\n",
    "            embedding_matrix[i] = word2vec_model[word]\n",
    "    return embedding_matrix\n",
    "\n",
    "embedding_matrix = create_embedding_matrix(word2vec_model, tokenizer)\n",
    "\n",
    "def build_model(hp):\n",
    "    model = tf.keras.Sequential([\n",
    "        tf.keras.layers.Embedding(\n",
    "            input_dim=vocab_size,\n",
    "            output_dim=embedding_dim,\n",
    "            input_length=max_sequence_length,\n",
    "            trainable=False,\n",
    "            weights=[embedding_matrix]\n",
    "        ),\n",
    "        tf.keras.layers.Conv1D(\n",
    "            hp.Int('conv1d', min_value=32, max_value=512, step=32),\n",
    "            kernel_size=3,\n",
    "            activation=hp.Choice('activation1', ['relu', 'sigmoid'])\n",
    "        ),\n",
    "        tf.keras.layers.MaxPooling1D(pool_size=2),\n",
    "        tf.keras.layers.LSTM(\n",
    "            hp.Int('lstm1', min_value=32, max_value=512, step=32),\n",
    "            dropout=hp.Choice('dropout1', [.0, .2, .4, .6]),\n",
    "            return_sequences=True\n",
    "        ),\n",
    "        tf.keras.layers.LSTM(\n",
    "            hp.Int('lstm2', min_value=32, max_value=512, step=32),\n",
    "            dropout=hp.Choice('dropout2', [.0, .2, .4, .6])\n",
    "        ),\n",
    "        tf.keras.layers.Dense(\n",
    "            hp.Int('dense1', min_value=32, max_value=512, step=32),\n",
    "            activation=hp.Choice('activation2', ['relu', 'sigmoid'])\n",
    "        ),\n",
    "        tf.keras.layers.Dense(1, activation='sigmoid')\n",
    "    ])\n",
    "\n",
    "    model.compile(loss=tf.keras.losses.BinaryCrossentropy(),\n",
    "                  optimizer=tf.keras.optimizers.Adam(hp.Choice('opt',[1e-2,1e-3,1e-4])),\n",
    "                  metrics=['accuracy']\n",
    "    )\n",
    "    return model\n",
    "\n",
    "tuner = kt.RandomSearch(\n",
    "        build_model,\n",
    "        objective='val_loss',\n",
    "        max_trials=10,\n",
    "        overwrite=True,\n",
    "        directory=address,\n",
    "        project_name=\"sentiment_model\")\n",
    "\n",
    "tuner.search(X_train, y_train, epochs=100,\n",
    "                    validation_data=(X_test, y_test),\n",
    "                    callbacks = [early_stopping, modelCheckpoint],\n",
    "                    verbose=2)\n",
    "\n",
    "# Get the optimal hyperparameters\n",
    "best_hps=tuner.get_best_hyperparameters(num_trials=1)[0]\n",
    "\n",
    "print(f\"\"\"\n",
    "The hyperparameter search is complete.\n",
    "The optimal parameters are:\n",
    "Conv1D layer: {best_hps.get('conv1d')}\n",
    "Activation function 1: {best_hps.get('activation1')}\n",
    "LSTM layer 1: {best_hps.get('lstm1')}\n",
    "Dropout rate 1: {best_hps.get('dropout1')}\n",
    "LSTM layer 2: {best_hps.get('lstm2')}\n",
    "Dropout rate 2: {best_hps.get('dropout2')}\n",
    "Dense layer 1: {best_hps.get('dense1')}\n",
    "Activation function 2: {best_hps.get('activation2')}\n",
    "Learning rate for the optimizer: {best_hps.get('opt')}\n",
    "\"\"\")"
   ]
  },
  {
   "cell_type": "markdown",
   "id": "ca4f33f7",
   "metadata": {},
   "source": [
    "### Model Summary\n",
    "The model summary provides an overview of the architecture of the CNN-LSTM model and the number of parameters in each layer. The summary also includes the results of hyperparameter tuning, highlighting the best validation loss achieved and the optimal hyperparameters.\n",
    "\n",
    "The CNN-LSTM model consists of the following layers:"
   ]
  },
  {
   "cell_type": "code",
   "execution_count": null,
   "id": "6ef847ec",
   "metadata": {
    "scrolled": false
   },
   "outputs": [],
   "source": [
    "model = tuner.hypermodel.build(best_hps)\n",
    "model.summary()"
   ]
  },
  {
   "cell_type": "markdown",
   "id": "546561df",
   "metadata": {},
   "source": [
    "The model summary shows the output shape of each layer, indicating the dimensions of the data at each stage of the model's architecture. It also provides the number of parameters associated with each layer.\n",
    "\n",
    "In total, the model has 1,929,241 parameters. Out of these, 608,641 parameters are trainable, meaning they will be updated during model training based on the optimization algorithm. The remaining 1,320,600 parameters are non-trainable, representing the pre-trained word embeddings used in the embedding layer.\n",
    "\n",
    "The hyperparameter tuning process resulted in a best validation loss of 0.4289. The optimal hyperparameters identified are as follows:\n",
    "\n",
    "- Conv1D layer: 128 filters\n",
    "- Activation function 1: ReLU\n",
    "- LSTM layer: 256 units\n",
    "- Dropout rate: 0.6\n",
    "- Dense layer 1: 384 units\n",
    "- Activation function 2: Sigmoid\n",
    "- Learning rate for the optimizer: 0.01\n",
    "\n",
    "These optimal hyperparameters were chosen to maximize the model's performance in sentiment analysis.\n",
    "\n",
    "By examining the model summary and understanding the impact of the hyperparameters, we can gain insights into the architecture and configuration of the CNN-LSTM model, facilitating further analysis and interpretation of its performance."
   ]
  },
  {
   "cell_type": "markdown",
   "id": "bae48f6b",
   "metadata": {},
   "source": [
    "### Model Training\n",
    "\n",
    "The model training phase involved training the CNN-LSTM model using the optimal hyperparameters determined through hyperparameter tuning. The goal was to find the optimal epoch that yielded the highest validation accuracy and lowest validation loss.\n",
    "\n",
    "The model was trained on the training data for a maximum of 100 epochs. The training progress and model performance on the validation data were monitored throughout the training process. Two callbacks were used during training: early stopping and model checkpoint. Early stopping helped prevent overfitting by stopping the training process if the validation loss did not improve for a certain number of epochs. Model checkpoint saved the best model weights based on the validation loss.\n",
    "\n",
    "The training results were as follows:"
   ]
  },
  {
   "cell_type": "code",
   "execution_count": null,
   "id": "1b3a964d",
   "metadata": {
    "scrolled": false
   },
   "outputs": [],
   "source": [
    "# Build model with optimal hyperparams and train it on the data\n",
    "history = model.fit(X_train, y_train, epochs=100,\n",
    "                    validation_data=(X_test, y_test),\n",
    "                    callbacks = [early_stopping, modelCheckpoint],\n",
    "                    verbose=2)\n",
    "\n",
    "val_loss_per_epoch = history.history['val_loss']\n",
    "best_epoch = val_loss_per_epoch.index(min(val_loss_per_epoch)) + 1\n",
    "print('Best epoch: %d' % (best_epoch,))"
   ]
  },
  {
   "cell_type": "markdown",
   "id": "9b63c40b",
   "metadata": {},
   "source": [
    "The best epoch, determined based on the lowest validation loss, was epoch 12. At this epoch, the model achieved a validation loss of 0.4128 and a validation accuracy of 0.8223.\n",
    "\n",
    "By training the model with the optimal hyperparameters and selecting the best epoch, the aim was to maximize the model's performance in sentiment analysis and ensure its ability to generalize well to unseen data.\n",
    "\n",
    "The model training phase played a crucial role in fine-tuning the CNN-LSTM model and enabling it to learn patterns and relationships within the data, ultimately leading to improved accuracy and effectiveness in sentiment analysis."
   ]
  },
  {
   "cell_type": "markdown",
   "id": "ac0a019a",
   "metadata": {},
   "source": [
    "### Retrain Model with Best Epoch\n",
    "After identifying the best epoch, the model was retrained using this optimal epoch to further enhance its performance. The retraining process involved using the hyperparameters obtained from the hyperparameter tuning and training the model on the training data for the determined best epoch.\n",
    "\n",
    "During the retraining process, the model's performance on both the training and validation data was monitored. The retrained model achieved improved results, demonstrating reduced loss and increased accuracy on the validation data compared to the initial training.\n",
    "\n",
    "Retraining the model with the best epoch allowed the model to further fine-tune its parameters and adjust its weights based on the training data. By leveraging the optimal epoch, the model was able to optimize its performance and improve its ability to classify sentiment accurately.\n",
    "\n",
    "The retraining process plays a vital role in enhancing the model's performance and ensuring its capability to make accurate predictions on unseen data."
   ]
  },
  {
   "cell_type": "code",
   "execution_count": null,
   "id": "8ce41b0f",
   "metadata": {},
   "outputs": [],
   "source": [
    "hypermodel = tuner.hypermodel.build(best_hps)\n",
    "\n",
    "# Retrain the model\n",
    "history = hypermodel.fit(X_train, y_train, epochs=best_epoch,\n",
    "                validation_data=(X_test, y_test),\n",
    "                callbacks = [early_stopping, modelCheckpoint],\n",
    "                verbose=2)"
   ]
  },
  {
   "cell_type": "markdown",
   "id": "2d11da42",
   "metadata": {},
   "source": [
    "### Evaluation of Model Performance\n",
    "To assess the performance of the model on the testing dataset, the loss and accuracy metrics were calculated. The loss value obtained was 0.4297, while the accuracy achieved was 81.72%."
   ]
  },
  {
   "cell_type": "code",
   "execution_count": null,
   "id": "b4cd9f79",
   "metadata": {},
   "outputs": [],
   "source": [
    "test_loss, test_acc = hypermodel.evaluate(X_test, y_test)\n",
    "\n",
    "print('Test Loss:', test_loss)\n",
    "print('Test Accuracy:', test_acc)"
   ]
  },
  {
   "cell_type": "markdown",
   "id": "9928474e",
   "metadata": {},
   "source": [
    "These results provide insights into how well the model generalized to unseen data. The loss metric represents the discrepancy between the predicted and true labels, with a lower value indicating better performance. In this case, the obtained loss value of 0.4297 suggests that the model achieved a relatively low level of error in its predictions.\n",
    "\n",
    "The accuracy metric, on the other hand, reflects the proportion of correctly classified instances out of the total number of instances in the testing dataset. With an accuracy of 81.72%, the model demonstrated a reasonably high level of correctness in its predictions.\n",
    "\n",
    "These results highlight the effectiveness of the trained model in accurately classifying sentiment in unseen data. The combination of low loss and high accuracy indicates that the model has successfully captured meaningful patterns and relationships in the data, enabling it to make reliable predictions.\n",
    "\n",
    "By evaluating the model on the testing dataset, we can gain valuable insights into its real-world performance and validate its effectiveness in sentiment analysis tasks."
   ]
  },
  {
   "cell_type": "markdown",
   "id": "a6aa68b0",
   "metadata": {},
   "source": [
    "### Visualization of Accuracy and Loss\n",
    "To gain further insights into the model's performance during training, two plots were generated: an accuracy plot and a loss plot. These plots provide a visual representation of the training and validation metrics across different epochs."
   ]
  },
  {
   "cell_type": "code",
   "execution_count": null,
   "id": "20815d8c",
   "metadata": {
    "scrolled": false
   },
   "outputs": [],
   "source": [
    "plt.figure(figsize=(16, 8))\n",
    "plt.subplot(1, 2, 1)\n",
    "plot_graphs(history, 'accuracy')\n",
    "plt.ylim(None, 1)\n",
    "plt.subplot(1, 2, 2)\n",
    "plot_graphs(history, 'loss')\n",
    "plt.ylim(0, None)"
   ]
  },
  {
   "cell_type": "markdown",
   "id": "d6f708ad",
   "metadata": {},
   "source": [
    "In the code, a figure with a size of 16x8 inches is created. The `plot_graphs` function is then called to plot the accuracy and loss values. The accuracy plot is displayed in the left subplot, while the loss plot is shown in the right subplot.\n",
    "\n",
    "The accuracy plot illustrates the training and validation accuracy values over different epochs. It allows for the comparison of how well the model performs on both the training and validation datasets. The y-axis represents the accuracy values, ranging from 0 to 1, which indicates the proportion of correctly classified instances.\n",
    "\n",
    "The loss plot, on the other hand, showcases the training and validation loss values across epochs. It provides an understanding of how the model's loss decreases over time, indicating its ability to optimize the predictions. The y-axis represents the loss values, starting from 0 and increasing gradually.\n",
    "\n",
    "By examining these plots, one can identify the model's learning progress and evaluate its performance. It enables the assessment of whether the model is overfitting or underfitting, as well as understanding the optimal number of epochs for training.\n",
    "\n",
    "The accuracy and loss plots provide valuable insights into the model's training process and can aid in making informed decisions for further model optimization or adjustments."
   ]
  },
  {
   "cell_type": "markdown",
   "id": "913a05f9",
   "metadata": {},
   "source": [
    "### CNN-LSTM Classification Report\n",
    "To evaluate the true performance of the CNN-LSTM model in sentiment analysis, we compare the predicted labels with the true labels on the test data. The F1-score, which combines precision and recall into a single metric, provides a reliable measure of the model's overall performance (Wood, 2019).\n",
    "\n",
    "The classification report below presents the F1-scores for each sentiment label:\n",
    "\n",
    "| Sentiment Label | F1-Score | Number of Samples |\n",
    "|-----------------|----------|------------------|\n",
    "| Negative (0)    | 80%      | 271              |\n",
    "| Positive (1)    | 81%      | 275              |\n",
    "\n",
    "The CNN-LSTM model achieved an F1-score of 80% for the negative sentiment label (label 0), indicating a reasonable balance between precision and recall. The model correctly identified negative sentiment in 80% of the samples belonging to this category. For the positive sentiment label (label 1), the model achieved an F1-score of 81%, demonstrating a similar balance between precision and recall in identifying positive sentiment.\n",
    "\n",
    "The classification report also provides precision, recall, and F1-score for each sentiment label. It reveals that the model achieved a precision of 83% and recall of 77% for the negative sentiment label, while for the positive sentiment label, the precision is 79% and recall is 84%. These metrics highlight the model's ability to make accurate predictions for both negative and positive sentiment.\n",
    "\n",
    "Overall, the CNN-LSTM model demonstrates a reasonable performance in sentiment analysis, achieving a balanced F1-score for both negative and positive sentiment labels. These results contribute to the comprehensive evaluation of the model's performance and provide valuable insights into its effectiveness in accurately classifying sentiment."
   ]
  },
  {
   "cell_type": "code",
   "execution_count": null,
   "id": "dbc2ffd8",
   "metadata": {
    "scrolled": true
   },
   "outputs": [],
   "source": [
    "# Extract predicted probabilities from neural network\n",
    "p_pred = model.predict(X_test)\n",
    "p_pred = p_pred.flatten()\n",
    "\n",
    "# Extract predicted class labels\n",
    "p = 0.5\n",
    "y_pred = p_pred > p\n",
    "\n",
    "print(classification_report(y_test, y_pred))"
   ]
  },
  {
   "cell_type": "markdown",
   "id": "a5bb3ca3",
   "metadata": {},
   "source": [
    "### CNN-LSTM Confusion Matrix Heatmap\n",
    "To visually analyze the performance of the CNN-LSTM model in sentiment analysis, a confusion matrix heatmap was generated using the `confusion_matrix` function from scikit-learn and visualized using the seaborn library. The confusion matrix provides valuable insights into the model's ability to predict sentiment accurately by presenting the counts of true positives, true negatives, false positives, and false negatives for each sentiment label.\n",
    "\n",
    "In the generated confusion matrix heatmap, the diagonal elements represent the true positives, indicating the number of correctly predicted samples for each sentiment class. For the negative sentiment (label 0), the model correctly classified 209 samples, demonstrating its accuracy in identifying negative sentiment. Similarly, for the positive sentiment (label 1), the model achieved 231 correct predictions, indicating its effectiveness in recognizing positive sentiment.\n",
    "\n",
    "The off-diagonal elements of the confusion matrix represent the false positives and false negatives. In this case, there were 44 false positives, where the model incorrectly predicted positive sentiment when the true sentiment was negative. Additionally, there were 62 false negatives, indicating instances where the model wrongly predicted negative sentiment when the true sentiment was positive.\n",
    "\n",
    "By examining the confusion matrix heatmap, we can gain a deeper understanding of the CNN-LSTM model's performance in terms of misclassifications and correct predictions for each sentiment label. This visualization enables a direct comparison between the logistic regression, random forest, and CNN-LSTM models, highlighting the strengths and weaknesses of each approach in sentiment analysis."
   ]
  },
  {
   "cell_type": "code",
   "execution_count": null,
   "id": "494758d6",
   "metadata": {},
   "outputs": [],
   "source": [
    "nn_confusion_matrix = confusion_matrix(y_test, y_pred)\n",
    "\n",
    "class_names=[\"0\", \"1\"]\n",
    "fig, ax = plt.subplots()\n",
    "tick_marks = np.arange(len(class_names))\n",
    "plt.xticks(tick_marks, class_names)\n",
    "plt.yticks(tick_marks, class_names)\n",
    "\n",
    "# create heatmap\n",
    "sns.heatmap(pd.DataFrame(nn_confusion_matrix), annot=True, cmap=\"viridis\" ,fmt='g', robust=True, center=0,\n",
    "           xticklabels=[\"0\", \"1\"], yticklabels=['0', '1'])\n",
    "ax.xaxis.set_label_position(\"top\")\n",
    "plt.tight_layout()\n",
    "plt.title('CNN-LSTM Confusion Matrix', y=1.1)\n",
    "plt.ylabel('Actual')\n",
    "plt.xlabel('Predicted');"
   ]
  },
  {
   "attachments": {
    "image-2.png": {
     "image/png": "[encoded data removed]"
    }
   },
   "cell_type": "markdown",
   "id": "3c43678b",
   "metadata": {},
   "source": [
    "### Summary and Implications\n",
    "The results of the data analysis show that the logistic regression model is better able to predict customer sentiment from the online customer reviews. The table below highlights the accuracy of both models:\n",
    "![image-2.png](attachment:image-2.png)\n",
    "The F1-scores indicate that the logistic regression has a macro average of 84% while the CNN-LSTM neural network was only able to achieve a macro average of 83%. Looking at the accuracy of the labels separately, both models were able to predict on label 1 for an F1-score of 93% but the neural network struggled with recall for label 0 and as such could only achieve an F1-score of 72%.\n",
    "\n",
    "One limitation of this analysis is that the classes were imbalanced and despite the application of class weights to the models, the classification reports clearly show that the effects of the imbalance were still present even though these results were improved above baseline models without weights applied.\n",
    "\n",
    "Based on these results, the clothing company should utilize the logistic regression model to monitor customer reviews as it can successfully analyze customer sentiment on new online reviews with 84% accuracy. This will allow the company to quickly identify potential issues such as the loss of consumer support and improve the products and services they offer to capitalize on these positive customer experiences (Kumar, 2021).\n",
    "\n",
    "Suggestions for future study are:\n",
    "•\tUse an ensemble classification method such as random forest to enhance accuracy and limit impact of class imbalance\n",
    "•\tUse a different variable for the sentiment labels such as Rating that might more accurately capture customer sentiment"
   ]
  },
  {
   "cell_type": "markdown",
   "id": "36320c89",
   "metadata": {},
   "source": [
    "## Reference\n",
    "\n",
    "Abadi, M., Agarwal, A., Barham, P., Brevdo, E., Chen, Z., Citro, C., Corrado, G. S., Davis, A., Dean, J., Devin, M., Ghemawat, S., Goodfellow, I., Harp, A., Irving, G., Isard, M., Jozefowicz, R., Jia, Y., Kaiser, L., Kudlur, M., … Zheng, X. (2015). TensorFlow: Large-scale machine learning on heterogeneous systems. TensorFlow. Retrieved from https://www.tensorflow.org/ \n",
    "\n",
    "Chakure, A. (2020, November 06). Random Forest and Its Implementation. Retrieved from https://medium.com/swlh/random-forest-and-its-implementation-71824ced454f\n",
    "\n",
    "Feature Engineering for NLP in Python. (n.d.). DataCamp. Retrieved January 18, 2022, from https://app.datacamp.com/learn/courses/feature-engineering-for-nlp-in-python\n",
    "\n",
    "Google. (n.d.). Classification: Precision and recall | machine learning crash course | google developers. Google. Retrieved May 17, 2022, from https://developers.google.com/machine-learning/crash-course/classification/precision-and-recall\n",
    "\n",
    "Introduction to Deep Learning with Keras. (n.d.). DataCamp. Retrieved February 20, 2022, from https://app.datacamp.com/learn/courses/introduction-to-deep-learning-with-keras\n",
    "\n",
    "K, G. M. (2020, July 18). Machine Learning Basics: Random Forest Regression. Retrieved from https://towardsdatascience.com/machine-learning-basics-random-forest-regression-be3e1e3bb91a\n",
    "\n",
    "Kotzias, D., Denil, M., De Freitas, N., & Smyth, P. (2015). From Group to Individual Labels using Deep Features. In Proceedings of the 21th ACM SIGKDD International Conference on Knowledge Discovery and Data Mining.\n",
    "\n",
    "Kumar, S. (2021, July 14). Top 5 business use cases of sentiment analysis. An Indium Software Company. Retrieved March 2, 2022, from https://www.tex-ai.com/top-5-use-cases-of-sentiment-analysis/\n",
    "\n",
    "Leung, K. (2022, January 9). Micro, Macro & weighted averages of F1 score, clearly explained. Medium. Retrieved May 17, 2022, from https://towardsdatascience.com/micro-macro-weighted-averages-of-f1-score-clearly-explained-b603420b292f\n",
    "Machine Learning with Tree-Based Models in Python. (n.d.). Retrieved from https://learn.datacamp.com/courses/machine-learning-with-tree-based-models-in-python\n",
    "\n",
    "Machine Learning with Tree-Based Models in Python. (n.d.). Retrieved from https://learn.datacamp.com/courses/machine-learning-with-tree-based-models-in-python\n",
    "\n",
    "Pedregosa et al. (2011). Scikit-learn: Machine learning in Python. Journal of Machine Learning Research. Retrieved May 17, 2022, from https://jmlr.org/papers/volume12/pedregosa11a/pedregosa11a.pdf\n",
    "\n",
    "Pierson, L. (2019, October 24). Retrieved from https://www.linkedin.com/learning/python-for-data-science-essential-training-part-1/\n",
    "\n",
    "Pierson, L. (2019, October 25). Retrieved from https://www.linkedin.com/learning/python-for-data-science-essential-training-part-2/\n",
    "\n",
    "Prosise, J. (2021, October 4). Text classification with Neural Networks. Atmosera. Retrieved February 20, 2022, from https://www.atmosera.com/blog/text-classification-with-neural-networks/\n",
    "\n",
    "Python Logistic Regression with Sklearn & Scikit. (n.d.). Retrieved from https://www.datacamp.com/community/tutorials/understanding-logistic-regression-python\n",
    "\n",
    "Text classification with an RNN:  Tensorflow. TensorFlow. (n.d.). Retrieved February 20, 2022, from https://www.tensorflow.org/text/tutorials/text_classification_rnn \n",
    "\n",
    "Wood, T. (2019, May 17). F-score. DeepAI. Retrieved May 17, 2022, from https://deepai.org/machine-learning-glossary-and-terms/f-score\n",
    "\n",
    "Wong, A. (2020, April 05). Random Forest Deep Dive & Beyond - ML for coders by Fast.ai (Lesson 2). Retrieved from https://medium.com/analytics-vidhya/random-forest-deep-dive-beyond-ml-for-coders-by-fast-ai-lesson-2-72c509900bab"
   ]
  }
 ],
 "metadata": {
  "kernelspec": {
   "display_name": "Python 3 (ipykernel)",
   "language": "python",
   "name": "python3"
  },
  "language_info": {
   "codemirror_mode": {
    "name": "ipython",
    "version": 3
   },
   "file_extension": ".py",
   "mimetype": "text/x-python",
   "name": "python",
   "nbconvert_exporter": "python",
   "pygments_lexer": "ipython3",
   "version": "3.8.17"
  }
 },
 "nbformat": 4,
 "nbformat_minor": 5
}
